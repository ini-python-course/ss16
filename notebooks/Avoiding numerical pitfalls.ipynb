{
 "cells": [
  {
   "cell_type": "markdown",
   "metadata": {},
   "source": [
    "# Avoiding numerical pitfalls"
   ]
  },
  {
   "cell_type": "markdown",
   "metadata": {},
   "source": [
    "## The harmonic series is convergent in floating point arithmetics"
   ]
  },
  {
   "cell_type": "markdown",
   "metadata": {},
   "source": [
    "\\begin{align*}\n",
    "\\sum_{n=1}^{\\infty} \\; \\frac{1}{n} \\quad = \\quad 34.1220356680478715816207113675773143768310546875\n",
    "\\end{align*}\n",
    "\n",
    "(usually it is famously known to diverge to $\\infty$)\n",
    "\n",
    "### References\n",
    "\n",
    "Proof of divergence:\n",
    "http://www.free-education-resources.com/www.mathematik.net/harmonische-reihen/hr1s20.htm\n",
    "\n",
    "Proof of convergence for floating point:\n",
    "http://www.maths.tcd.ie/pub/ims/bull71/recipnote.pdf\n",
    "\n",
    "Resolution:\n",
    "http://fredrik-j.blogspot.de/2009/02/how-not-to-compute-harmonic-numbers.html"
   ]
  },
  {
   "cell_type": "markdown",
   "metadata": {},
   "source": [
    "## Basics"
   ]
  },
  {
   "cell_type": "markdown",
   "metadata": {},
   "source": [
    "### References\n",
    "\n",
    "http://www.johndcook.com/blog/2009/04/06/numbers-are-a-leaky-abstraction/\n",
    "\n",
    "http://www.codeproject.com/Articles/29637/Five-Tips-for-Floating-Point-Programming\n",
    "\n",
    "http://www.codeproject.com/Articles/25294/Avoiding-Overflow-Underflow-and-Loss-of-Precision\n",
    "\n",
    "https://docs.python.org/2/tutorial/floatingpoint.html"
   ]
  },
  {
   "cell_type": "markdown",
   "metadata": {},
   "source": [
    "In floating point arithmetic, subtraction is rather inaccurate. Observe that 2-1.8 is not 0.2.\n",
    "However, Python catches this well known phenomenon in its str-method and converts the output to a convenient number. The following two lines illustrate not only numeric subtaction inaccuracy, but also the difference between `repr` and `str`. `repr` is designed to represent the value accurately, while `str` is intended for a convenient output format."
   ]
  },
  {
   "cell_type": "code",
   "execution_count": 7,
   "metadata": {
    "collapsed": false
   },
   "outputs": [
    {
     "name": "stdout",
     "output_type": "stream",
     "text": [
      "0.19999999999999996\n",
      "0.2\n"
     ]
    }
   ],
   "source": [
    "print repr(2-1.8)\n",
    "print str(2-1.8)"
   ]
  },
  {
   "cell_type": "markdown",
   "metadata": {},
   "source": [
    "Just to mention for completeness: Don't use exact equals-operator on floats:"
   ]
  },
  {
   "cell_type": "code",
   "execution_count": 20,
   "metadata": {
    "collapsed": false
   },
   "outputs": [
    {
     "name": "stdout",
     "output_type": "stream",
     "text": [
      "False\n",
      "True\n",
      "True\n"
     ]
    }
   ],
   "source": [
    "print (2-1.8 == 0.2)\n",
    "#Python-hack that actually works surprisingly well:\n",
    "print (str(2-1.8) == str(0.2))\n",
    "\n",
    "#Recommended method with control over matching-precision:\n",
    "threshold = 0.000000001\n",
    "print (((2-1.8) - 0.2)**2 < threshold)"
   ]
  },
  {
   "cell_type": "markdown",
   "metadata": {},
   "source": [
    "## Let's solve a quadratic equation.\n",
    "\n",
    "Naive solving becomes bad if low and large coefficients occur.\n",
    "Consider the equation $3 x^2 + 10^5 x + 5 = 0$"
   ]
  },
  {
   "cell_type": "code",
   "execution_count": 201,
   "metadata": {
    "collapsed": false
   },
   "outputs": [
    {
     "name": "stdout",
     "output_type": "stream",
     "text": [
      "pq\n",
      "(-5.0000089686363935e-06, -333333.33332833333)\n",
      "-8.968561393096763e-06\n",
      "6.103515625e-05\n",
      "pq2\n",
      "(-5.000000000075e-06, -333333.33332833333)\n",
      "-8.881784197001252e-16\n",
      "6.103515625e-05\n",
      "companion\n",
      "array([ -4.99997986e-06,  -3.33333333e+05])\n",
      "2.0135269062748762e-05\n",
      "6.103515625e-05\n",
      "newton\n",
      "array([ -5.00000000e-06,  -3.33333333e+05])\n",
      "0.0\n",
      "0.0\n",
      "numpy\n",
      "array([ -3.33333333e+05,  -4.99997986e-06])\n",
      "2.0135269062748762e-05\n",
      "6.103515625e-05\n"
     ]
    }
   ],
   "source": [
    "import numpy as np\n",
    "import scipy.optimize as opt\n",
    "\n",
    "a = 3.0\n",
    "b = 10e5\n",
    "c = 5.0\n",
    "pol = np.polynomial.Polynomial((c, b, a))\n",
    "\n",
    "def f(x):\n",
    "    return a*x**2+b*x+c\n",
    "    #return (a*x+b)*x+c\n",
    "\n",
    "def f1(x):\n",
    "    return 2*a*x+b\n",
    "\n",
    "def f2(x):\n",
    "    return 2*a\n",
    "\n",
    "def solve_pq():\n",
    "    p = b/a\n",
    "    q = c/a\n",
    "    D = (p/2.0)**2 - q\n",
    "    r1 = -p/2.0+D**0.5\n",
    "    r2 = -p/2.0-D**0.5\n",
    "    return (r1, r2)\n",
    "\n",
    "def solve_pq2():\n",
    "    p = b/a\n",
    "    q = c/a\n",
    "    D = (p/2.0)**2 - q\n",
    "    r1 = -2.0*q/(p+2.0*D**0.5)\n",
    "    r2 = -p/2.0-D**0.5\n",
    "    return (r1, r2)\n",
    "\n",
    "def solve_companion():\n",
    "    p = b/a\n",
    "    q = c/a\n",
    "    C = np.array([[0.0, -q], [1.0, -p]])\n",
    "    return np.linalg.eigvals(C)\n",
    "\n",
    "def solve_newton(r):\n",
    "    return opt.newton(f, r, tol=1.48e-10)#, fprime=None, args=(), tol=1.48e-08, maxiter=50, fprime2=None\n",
    "\n",
    "def solve_newton2(r):\n",
    "    return opt.newton(f, r, tol=1.48e-10, fprime=f1)#, args=(), tol=1.48e-08, maxiter=50, fprime2=None\n",
    "\n",
    "def solve_newton3(r):\n",
    "    return opt.newton(f, r, tol=1.48e-10, fprime=f1, fprime2=f2)\n",
    "\n",
    "result = solve_pq()\n",
    "print \"pq\"\n",
    "print repr(result)\n",
    "print repr(f(result[0]))\n",
    "print repr(f(result[1]))\n",
    "\n",
    "result = solve_pq2()\n",
    "print \"pq2\"\n",
    "print repr(result)\n",
    "print repr(f(result[0]))\n",
    "print repr(f(result[1]))\n",
    "\n",
    "result = solve_companion()\n",
    "print \"companion\"\n",
    "print repr(result)\n",
    "print repr(f(result[0]))\n",
    "print repr(f(result[1]))\n",
    "\n",
    "result[0] = solve_newton(result[0])\n",
    "result[1] = solve_newton(result[1])\n",
    "print \"newton\"\n",
    "print repr(result)\n",
    "print repr(f(result[0]))\n",
    "print repr(f(result[1]))\n",
    "\n",
    "result = np.polynomial.polynomial.polyroots((c, b, a))\n",
    "print \"numpy\"\n",
    "print repr(result)\n",
    "print repr(f(result[1]))\n",
    "print repr(f(result[0]))\n"
   ]
  },
  {
   "cell_type": "markdown",
   "metadata": {},
   "source": [
    "## Logarithms can avoid floating point overflow\n",
    "\n",
    "Especially probabilities often involve large factorials. These can become astronomically large."
   ]
  },
  {
   "cell_type": "code",
   "execution_count": 202,
   "metadata": {
    "collapsed": false
   },
   "outputs": [
    {
     "name": "stdout",
     "output_type": "stream",
     "text": [
      "6.977166201106374e+42\n",
      "6.977166201106792e+42\n"
     ]
    }
   ],
   "source": [
    "import math\n",
    "\n",
    "n = 645645665476.43e160\n",
    "m = 125624536575.76e150\n",
    "\n",
    "#print repr(n**4/m**4)\n",
    "print repr((n/m)**4)\n",
    "print repr(math.exp(4*math.log(n)-4*math.log(m)))"
   ]
  },
  {
   "cell_type": "markdown",
   "metadata": {},
   "source": [
    "# Don't invert that matrix"
   ]
  },
  {
   "cell_type": "markdown",
   "metadata": {},
   "source": [
    "### References\n",
    "\n",
    "http://www.johndcook.com/blog/2010/01/19/dont-invert-that-matrix/\n",
    "\n",
    "### Summary:\n",
    "\n",
    "* There's hardly ever a good reason to invert a matrix\n",
    "* Solve linear equation systems directly\n",
    "* Apply a QR-decomposition to solve multiple systems with the same matrix (but different right side)\n",
    "* Even if the inverse is given for free, direct solving is still more accurate\n",
    "* Inverses of sparse matrices are in general dense"
   ]
  },
  {
   "cell_type": "code",
   "execution_count": 318,
   "metadata": {
    "collapsed": false
   },
   "outputs": [
    {
     "name": "stdout",
     "output_type": "stream",
     "text": [
      "[[  6.44990502e-02   5.36839163e+04   1.73710929e+01  -4.99717837e-01]\n",
      " [  2.05431541e-05   7.90998814e+00   1.81976767e-03  -1.47605213e-04]\n",
      " [  3.06640151e-01   2.60768591e+05   8.66019730e+01  -2.20514772e+00]\n",
      " [  5.25260458e-01   3.82363798e+05   1.21503426e+02  -3.78146023e+00]]\n",
      "\n",
      "[[  6.87262213e+06   3.31201536e+11   6.09022361e+07  -4.93512719e+07]\n",
      " [ -6.87282197e+06  -3.31201415e+11  -6.09021971e+07   4.93512708e+07]\n",
      " [  1.64947730e+10   7.94883409e+14   1.46165275e+11  -1.18443052e+11]\n",
      " [ -1.64947727e+11  -7.94883395e+15  -1.46165273e+12   1.18443050e+12]]\n",
      "\n",
      "[[  1.00000000e+00   2.50000000e+00   0.00000000e+00  -3.66210938e-04]\n",
      " [ -3.72529030e-09   1.00000000e+00  -2.98023224e-08  -5.96046448e-08]\n",
      " [ -1.22070312e-04   2.00000000e+00   1.00097656e+00  -4.88281250e-04]\n",
      " [  1.22070312e-04   4.00000000e+00   0.00000000e+00   9.99023438e-01]]\n",
      "31.0161248539\n",
      "13.9283883114\n",
      "13.0758905086\n"
     ]
    }
   ],
   "source": [
    "import numpy as np\n",
    "import scipy\n",
    "\n",
    "#m = np.array([[0.5e90, 0.00008, -0.1, 46786767], [-0.5, 0.2, -0.00001, 0.000008653], [1200000000000000.00002, -600.8, -0.5, 0.0], [-12000, 600.8, -0.698065, 650.0]])\n",
    "m = np.array([[0.5, 0.00008, -0.1, 4667], [-0.5, 0.2, -0.00001, 0.000008653], [1200.00002, -600.8, -0.5, 0.0], [-12000, 600.8, -0.698065, 650.0]])\n",
    "\n",
    "\n",
    "#print m\n",
    "#mI = m**(-1)\n",
    "mI = np.linalg.inv(m)\n",
    "#print mI\n",
    "#print m.dot(mI)\n",
    "\n",
    "ev = [1.0e-12, 2.0, 88.8, -0.005]\n",
    "A = m.dot(np.diag(ev)).dot(mI)\n",
    "print A\n",
    "print \"\"\n",
    "AI = np.linalg.inv(A)\n",
    "print AI\n",
    "print \"\"\n",
    "print A.dot(AI)\n",
    "\n",
    "b = np.array([1.0, 2.0, 3.0, 4.0])\n",
    "\n",
    "# Required is x solving Ax = b\n",
    "def err(x1):\n",
    "    v = np.dot(A, x1)-b\n",
    "    return np.sqrt(np.inner(v, v))\n",
    "\n",
    "x = np.dot(AI, b)\n",
    "print err(x)\n",
    "\n",
    "x2 = scipy.linalg.solve(A, b)\n",
    "print err(x2)\n",
    "\n",
    "# A = QR\n",
    "Q, R = np.linalg.qr(A)\n",
    "Qb = np.dot(Q.T, b)\n",
    "x3 = scipy.linalg.solve_triangular(R, Qb)\n",
    "print err(x3)\n"
   ]
  },
  {
   "cell_type": "markdown",
   "metadata": {},
   "source": [
    "## Polynomes"
   ]
  },
  {
   "cell_type": "markdown",
   "metadata": {},
   "source": [
    "* Horner's method for numerically stable evaluation\n",
    "* NumPy's Polynome-class has this built-in\n",
    "\n",
    "### For expansion:\n",
    "\n",
    "* sometimes we use monomials to expand input data\n",
    "* a subsequent algorithm is supposed to figure out the factors and assemble polynomials\n",
    "* these will be unstable in a naive approach (if high degrees are involved, degrees above 60 can already cause issues)\n",
    "* instead of monomials use a numerically stable base like legendre polynomials\n",
    "* you might need to adjust them for your value-set"
   ]
  },
  {
   "cell_type": "code",
   "execution_count": null,
   "metadata": {
    "collapsed": true
   },
   "outputs": [],
   "source": []
  }
 ],
 "metadata": {
  "kernelspec": {
   "display_name": "Python 2",
   "language": "python",
   "name": "python2"
  },
  "language_info": {
   "codemirror_mode": {
    "name": "ipython",
    "version": 2
   },
   "file_extension": ".py",
   "mimetype": "text/x-python",
   "name": "python",
   "nbconvert_exporter": "python",
   "pygments_lexer": "ipython2",
   "version": "2.7.10"
  }
 },
 "nbformat": 4,
 "nbformat_minor": 0
}
