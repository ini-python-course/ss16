{
 "cells": [
  {
   "cell_type": "markdown",
   "metadata": {},
   "source": [
    "# List comprehensions\n",
    "\n",
    "In Python there is a special way to initialize lists (and dictionaries) called *list comprehensions*. For many lists that we are going to create, list comprehensions are the recommended way to do so without using loops (remember that loops are **slow** in Python).\n",
    "\n",
    "Another reason to use list comprehensions is that they can be elegant and resemble the way we would define sets in mathematical notation. Consider for instance the examples from [this tutorial](http://www.secnetix.de/olli/Python/list_comprehensions.hawk):\n",
    "\n",
    "> $V = (1, 2, 4, 8, \\dots, 2^{12})$\n",
    "\n",
    "> $S = \\{x^2 : x \\in \\{0 \\dots 9\\}\\}$\n",
    "\n",
    "> $M = \\{x | x \\in S \\textrm{ and } x \\textrm{ even }\\}$\n",
    "\n",
    "We can initialize $V$, $S$ and $M$ easily with list comprehensions:"
   ]
  },
  {
   "cell_type": "code",
   "execution_count": null,
   "metadata": {
    "collapsed": false
   },
   "outputs": [],
   "source": [
    "V = [2**i for i in range(13)]\n",
    "print V"
   ]
  },
  {
   "cell_type": "code",
   "execution_count": null,
   "metadata": {
    "collapsed": false
   },
   "outputs": [],
   "source": [
    "S = set([x**2 for x in range(10)])\n",
    "print S"
   ]
  },
  {
   "cell_type": "code",
   "execution_count": null,
   "metadata": {
    "collapsed": false
   },
   "outputs": [],
   "source": [
    "M = set([x for x in S if x % 2 == 0])\n",
    "print M"
   ]
  },
  {
   "cell_type": "markdown",
   "metadata": {},
   "source": [
    "## Complex example\n",
    "\n",
    "In the introduction notebook there was an [exercise](Python%20Introduction.ipynb#Create-a-list-A-with-even-and-a-list-B-with-odd-numbers-between-0-and-20-%28both-exklusive%29) that we tend to solve with loops and if-else statements as in other languages. The more *pythonic* way however would be with list comprehensions.\n",
    "\n",
    "> **Create a list A with even and a list B with odd numbers between 0 and 20 (both exklusive)**"
   ]
  },
  {
   "cell_type": "code",
   "execution_count": null,
   "metadata": {
    "collapsed": false
   },
   "outputs": [],
   "source": [
    "A = [i for i in range(1, 20) if i%2 == 0]\n",
    "B = [i for i in range(1, 20) if i%2 == 1]\n",
    "print A\n",
    "print B"
   ]
  },
  {
   "cell_type": "markdown",
   "metadata": {},
   "source": [
    "> **Print all numbers of list B that divide a number in A**\n",
    "\n",
    "For a given number we can check how many numbers it divides in A like this:"
   ]
  },
  {
   "cell_type": "code",
   "execution_count": null,
   "metadata": {
    "collapsed": false
   },
   "outputs": [],
   "source": [
    "def is_divider_of_a(b):\n",
    "    return len([a for a in A if a%b==0]) > 0\n",
    "\n",
    "print is_divider_of_a(3)"
   ]
  },
  {
   "cell_type": "markdown",
   "metadata": {},
   "source": [
    "This way the task above can be formulated as a list comprehension like this:"
   ]
  },
  {
   "cell_type": "code",
   "execution_count": null,
   "metadata": {
    "collapsed": false
   },
   "outputs": [],
   "source": [
    "print [b for b in B if is_divider_of_a(b)]"
   ]
  },
  {
   "cell_type": "markdown",
   "metadata": {},
   "source": [
    "## Exercise\n",
    "\n",
    "[Project Euler](https://projecteuler.net/) is a website with many small mathematical challenges. Solve the [first one](https://projecteuler.net/problem=1) with a list comprehension and `np.sum()`:\n",
    "\n",
    "> If we list all the natural numbers below 10 that are multiples of 3 or 5, we get 3, 5, 6 and 9. The sum of these multiples is 23.\n",
    "\n",
    "> Find the sum of all the multiples of 3 or 5 below 1000.\n",
    "\n",
    "If you like, you can make an account on their website and submit the solution."
   ]
  },
  {
   "cell_type": "code",
   "execution_count": null,
   "metadata": {
    "collapsed": true
   },
   "outputs": [],
   "source": [
    "import numpy as np\n",
    "# your code here"
   ]
  },
  {
   "cell_type": "code",
   "execution_count": null,
   "metadata": {
    "collapsed": false
   },
   "outputs": [],
   "source": [
    "# our solution\n",
    "from solutions import *\n",
    "decrypt_solution(solution_list_comprehensions, passphrase='foo')"
   ]
  }
 ],
 "metadata": {
  "kernelspec": {
   "display_name": "Python 2",
   "language": "python",
   "name": "python2"
  },
  "language_info": {
   "codemirror_mode": {
    "name": "ipython",
    "version": 2
   },
   "file_extension": ".py",
   "mimetype": "text/x-python",
   "name": "python",
   "nbconvert_exporter": "python",
   "pygments_lexer": "ipython2",
   "version": "2.7.10"
  }
 },
 "nbformat": 4,
 "nbformat_minor": 0
}
