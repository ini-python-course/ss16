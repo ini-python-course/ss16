{
 "cells": [
  {
   "cell_type": "markdown",
   "metadata": {},
   "source": [
    "# Python Introduction\n"
   ]
  },
  {
   "cell_type": "markdown",
   "metadata": {},
   "source": [
    "\n",
    "\n",
    "The Internet is full of good Python tutorials allowing you to learn Python using whatever media (blog, video, book,  ...) you prefer. A good starting point, however, is the official Python tutorial https://docs.python.org/3/tutorial/index.html.\n",
    "\n",
    "While reading and understanding is one things, coding is more about practicing what you learned conceptionally. For that purpose we created several small exercises that allow you to check whether you are able to use a specific aspect in practice. \n",
    "\n",
    "So have fun, use the web but also ask questions, that's why we are present ;-)!"
   ]
  },
  {
   "cell_type": "markdown",
   "metadata": {},
   "source": [
    "# Datatypes in Python\n",
    "\n",
    "What you should learn: Floats, Integers, Longs, Complex numbers, Bools, Strings "
   ]
  },
  {
   "cell_type": "markdown",
   "metadata": {},
   "source": [
    "## Ints and floats:\n",
    "\n",
    "Calculate the following expression\n",
    "\n",
    "$y = 1-(5*(6-12))+5/7$ (print result and type)"
   ]
  },
  {
   "cell_type": "code",
   "execution_count": 1,
   "metadata": {
    "collapsed": false
   },
   "outputs": [],
   "source": [
    "# Your code"
   ]
  },
  {
   "cell_type": "markdown",
   "metadata": {},
   "source": [
    "Check the result manually! If it is incorrect think about what might be the reason and correct the code. \n",
    "If the result is correct what is important point here we have to take care of?"
   ]
  },
  {
   "cell_type": "markdown",
   "metadata": {},
   "source": [
    "## Modulo operation:\n",
    "\n",
    "Calculate the following expression\n",
    "\n",
    "$y = 8674^5\\mod 67$  (print result and type)"
   ]
  },
  {
   "cell_type": "code",
   "execution_count": 2,
   "metadata": {
    "collapsed": false
   },
   "outputs": [],
   "source": [
    "# Your code"
   ]
  },
  {
   "cell_type": "markdown",
   "metadata": {},
   "source": [
    "Now calutale $y = (8674\\mod 67)^5\\mod 67$  (print result and type)"
   ]
  },
  {
   "cell_type": "code",
   "execution_count": 3,
   "metadata": {
    "collapsed": false
   },
   "outputs": [],
   "source": [
    "# Your code"
   ]
  },
  {
   "cell_type": "markdown",
   "metadata": {},
   "source": [
    "You see, Python has no type binding and does autocast!"
   ]
  },
  {
   "cell_type": "markdown",
   "metadata": {},
   "source": [
    "## Complex numbers:\n",
    "\n",
    "Calculate the following expression\n",
    "\n",
    "$y = ((5+3j) - (7-2j)) * (4+6j)$  (print result and type)"
   ]
  },
  {
   "cell_type": "code",
   "execution_count": 4,
   "metadata": {
    "collapsed": false
   },
   "outputs": [],
   "source": [
    "# Your code"
   ]
  },
  {
   "cell_type": "markdown",
   "metadata": {},
   "source": [
    "## Bools:\n",
    "\n",
    "Define two bool variables a and b \n",
    "\n",
    "$a = True,b = False$\n",
    "\n",
    "and calulate \n",
    "\n",
    "$ y = (a \\vee b ) \\wedge (a \\wedge !a)$  (print result and type)\n",
    "\n",
    "where $!a = not\\,a$"
   ]
  },
  {
   "cell_type": "code",
   "execution_count": 5,
   "metadata": {
    "collapsed": false
   },
   "outputs": [],
   "source": [
    "# Your code"
   ]
  },
  {
   "cell_type": "markdown",
   "metadata": {},
   "source": [
    "now calculate $ y = (a - b ) + (a + (!a))$ (print result and type)"
   ]
  },
  {
   "cell_type": "code",
   "execution_count": 6,
   "metadata": {
    "collapsed": false
   },
   "outputs": [],
   "source": [
    "# Your code"
   ]
  },
  {
   "cell_type": "markdown",
   "metadata": {},
   "source": [
    "Since Python does not have explicit type binding it is very easy to mess up your calculations. Keep that in mind!"
   ]
  },
  {
   "cell_type": "markdown",
   "metadata": {},
   "source": [
    "## Strings:\n",
    "\n",
    "Define two string variables\n",
    "\n",
    "$name = Max$ \n",
    "\n",
    "$surname = Mustermann$\n",
    "\n",
    "concatenate them with a whitespace (print result and type)"
   ]
  },
  {
   "cell_type": "code",
   "execution_count": 7,
   "metadata": {
    "collapsed": false
   },
   "outputs": [],
   "source": [
    "# Your code"
   ]
  },
  {
   "cell_type": "markdown",
   "metadata": {},
   "source": [
    "## Bit manipulations:\n",
    "\n",
    "Define the variables\n",
    "\n",
    "$x = 13$,\n",
    "\n",
    "$y = 5$\n",
    "\n",
    "and shift the bits of $x$ by 2 to the right and the bits of $y$ by 1 to the left:"
   ]
  },
  {
   "cell_type": "code",
   "execution_count": 8,
   "metadata": {
    "collapsed": false
   },
   "outputs": [],
   "source": [
    "# Your code"
   ]
  },
  {
   "cell_type": "markdown",
   "metadata": {},
   "source": [
    "More on basic and advanced types\n",
    "\n",
    "https://docs.python.org/3.3/library/stdtypes.html\n",
    "\n",
    "https://docs.python.org/2/library/datatypes.html"
   ]
  },
  {
   "cell_type": "markdown",
   "metadata": {},
   "source": [
    "# Complex datastructures in Python\n",
    "What you should learn: List, Dictionary, Maps, Tuples, Indexing \n",
    "\n",
    "Good overview:\n",
    "\n",
    "https://docs.python.org/3/tutorial/datastructures.html"
   ]
  },
  {
   "cell_type": "markdown",
   "metadata": {},
   "source": [
    "## List:\n",
    "\n",
    "Define the two lists \n",
    "\n",
    "$A = [1,2,3,4,5]$,\n",
    "\n",
    "$B = [10,9,8,7,6]$\n",
    "\n",
    "and concatenate them, store the result in $C$ and print $C$"
   ]
  },
  {
   "cell_type": "code",
   "execution_count": 9,
   "metadata": {
    "collapsed": false
   },
   "outputs": [],
   "source": [
    "# Your code"
   ]
  },
  {
   "cell_type": "markdown",
   "metadata": {},
   "source": [
    "Now extract the sublist $D = [3,4,5,10]$ using indexing"
   ]
  },
  {
   "cell_type": "code",
   "execution_count": 10,
   "metadata": {
    "collapsed": false
   },
   "outputs": [],
   "source": [
    "# Your code"
   ]
  },
  {
   "cell_type": "markdown",
   "metadata": {},
   "source": [
    "Insert element '$0$' to list $D$ behind element '$4$'."
   ]
  },
  {
   "cell_type": "code",
   "execution_count": 11,
   "metadata": {
    "collapsed": false
   },
   "outputs": [],
   "source": [
    "# Your code"
   ]
  },
  {
   "cell_type": "markdown",
   "metadata": {},
   "source": [
    "Append element '$42$' to List $D$ and print the length of $D$"
   ]
  },
  {
   "cell_type": "code",
   "execution_count": 12,
   "metadata": {
    "collapsed": false
   },
   "outputs": [],
   "source": [
    "# Your code"
   ]
  },
  {
   "cell_type": "markdown",
   "metadata": {},
   "source": [
    "Append element '$42$' again to List $D$ and print the length of $D$"
   ]
  },
  {
   "cell_type": "code",
   "execution_count": 13,
   "metadata": {
    "collapsed": false
   },
   "outputs": [],
   "source": [
    "# Your code"
   ]
  },
  {
   "cell_type": "markdown",
   "metadata": {},
   "source": [
    "Remove both elements '$42$' from List $D$, print $D$ and its length"
   ]
  },
  {
   "cell_type": "code",
   "execution_count": 14,
   "metadata": {
    "collapsed": false
   },
   "outputs": [],
   "source": [
    "# Your code"
   ]
  },
  {
   "cell_type": "markdown",
   "metadata": {},
   "source": [
    "Sort list $D$ and print the result"
   ]
  },
  {
   "cell_type": "code",
   "execution_count": 15,
   "metadata": {
    "collapsed": false
   },
   "outputs": [],
   "source": [
    "# Your code"
   ]
  },
  {
   "cell_type": "markdown",
   "metadata": {},
   "source": [
    "Reverse list $D$ and print the result"
   ]
  },
  {
   "cell_type": "code",
   "execution_count": 16,
   "metadata": {
    "collapsed": false
   },
   "outputs": [],
   "source": [
    "# Your code"
   ]
  },
  {
   "cell_type": "markdown",
   "metadata": {},
   "source": [
    "More on lists: \n",
    "\n",
    "http://www.effbot.org/zone/python-list.htm \n",
    "\n",
    "https://docs.python.org/2/tutorial/introduction.html#lists"
   ]
  },
  {
   "cell_type": "markdown",
   "metadata": {},
   "source": [
    "## Sets: \n",
    "\n",
    "Create two sets \n",
    "\n",
    "$A = $'$Apple$','$Peach$','$Banana$','$Blueberry$'\n",
    "\n",
    "$B = $'$Strawberry$','$Peach$','$Banana$','$Pineapple$'\n",
    "\n",
    "and check whether $A$ or $B$ contains the element '$Pineapple$'"
   ]
  },
  {
   "cell_type": "code",
   "execution_count": 17,
   "metadata": {
    "collapsed": false
   },
   "outputs": [],
   "source": [
    "# Your code"
   ]
  },
  {
   "cell_type": "markdown",
   "metadata": {},
   "source": [
    "Calculate and print the result of the following expressions\n",
    "\n",
    "$A \\, \\bigcup \\, B$ (Union), \n",
    "$A \\, \\bigcap \\, B$ (Intersection), \n",
    "$A \\, \\setminus \\, B$ (Difference), \n",
    "$A \\, \\triangle \\, B = (A \\, \\setminus \\, B) \\, \\bigcup \\, (B \\, \\setminus \\, A)$ (Symmetric difference)"
   ]
  },
  {
   "cell_type": "code",
   "execution_count": 18,
   "metadata": {
    "collapsed": false
   },
   "outputs": [],
   "source": [
    "# Your code"
   ]
  },
  {
   "cell_type": "markdown",
   "metadata": {},
   "source": [
    "More on Sets:\n",
    "\n",
    "https://docs.python.org/2/library/sets.html"
   ]
  },
  {
   "cell_type": "markdown",
   "metadata": {},
   "source": [
    "## Dictionaries:"
   ]
  },
  {
   "cell_type": "markdown",
   "metadata": {},
   "source": [
    "Create and print a dictionary $D$ with the key-value pairs \n",
    "\n",
    "$'pen-567'$, \n",
    "\n",
    "$'paper-673'$, \n",
    "\n",
    "$'keyboard-52'$"
   ]
  },
  {
   "cell_type": "code",
   "execution_count": 19,
   "metadata": {
    "collapsed": false
   },
   "outputs": [],
   "source": [
    "# Your code"
   ]
  },
  {
   "cell_type": "markdown",
   "metadata": {},
   "source": [
    "Add the key-value pair $'monitor-4'$ to $D$ and print $D$  "
   ]
  },
  {
   "cell_type": "code",
   "execution_count": 20,
   "metadata": {
    "collapsed": false
   },
   "outputs": [],
   "source": [
    "# Your code"
   ]
  },
  {
   "cell_type": "markdown",
   "metadata": {},
   "source": [
    "Delete the key '$pen$' and print the keys of $D$"
   ]
  },
  {
   "cell_type": "code",
   "execution_count": 21,
   "metadata": {
    "collapsed": false
   },
   "outputs": [],
   "source": [
    "# Your code"
   ]
  },
  {
   "cell_type": "markdown",
   "metadata": {},
   "source": [
    "Check whether '$paper$' is a key of $D$ and if so, print its value."
   ]
  },
  {
   "cell_type": "code",
   "execution_count": 22,
   "metadata": {
    "collapsed": false
   },
   "outputs": [],
   "source": [
    "# Your code"
   ]
  },
  {
   "cell_type": "markdown",
   "metadata": {},
   "source": [
    "Check whether '$pen$' is a key of $D$ (This can be done without exception handling)"
   ]
  },
  {
   "cell_type": "code",
   "execution_count": 23,
   "metadata": {
    "collapsed": false
   },
   "outputs": [],
   "source": [
    "# Your code"
   ]
  },
  {
   "cell_type": "markdown",
   "metadata": {},
   "source": [
    "More on dictionaries:\n",
    "\n",
    "\n",
    "\n",
    "http://www.tutorialspoint.com/python/python_dictionary.htm"
   ]
  },
  {
   "cell_type": "markdown",
   "metadata": {},
   "source": [
    "# Functions and control structures\n",
    "\n",
    "What you should learn: Functions, lambda expressions, if-elif-else statements, for-loop, while-loop, list-comprehensions, map, zip , enumerate\n"
   ]
  },
  {
   "cell_type": "markdown",
   "metadata": {},
   "source": [
    "## Functions:\n",
    "\n",
    "Define the following polynomial as a Python function with default value for x = 3:\n",
    "\n",
    "$f(x) =  5*x^2 - 4*\\mid x^3\\mid + \\frac{1}{10}x^5$\n",
    "\n",
    "and print the value for:\n",
    "\n",
    "$y = f(5)$"
   ]
  },
  {
   "cell_type": "code",
   "execution_count": 24,
   "metadata": {
    "collapsed": false
   },
   "outputs": [],
   "source": [
    "# Your code"
   ]
  },
  {
   "cell_type": "markdown",
   "metadata": {},
   "source": [
    "Now implement this polynomial as an anonymous Functions using the lambda expression"
   ]
  },
  {
   "cell_type": "code",
   "execution_count": 25,
   "metadata": {
    "collapsed": false
   },
   "outputs": [],
   "source": [
    "# Your code"
   ]
  },
  {
   "cell_type": "markdown",
   "metadata": {},
   "source": [
    "More on functions:\n",
    "\n",
    "http://www.tutorialspoint.com/python/python_functions.htm"
   ]
  },
  {
   "cell_type": "markdown",
   "metadata": {},
   "source": [
    "## If-elif-else statement:"
   ]
  },
  {
   "cell_type": "markdown",
   "metadata": {},
   "source": [
    "Modify function $f$ using a $if-elif-else$ statement such that it returns the value of the polynomial only if $0<=x<=10$. If $x <= 0$ it should return the string \"x is to small\" and if $x>=10$ it should return the string \"x is to big\". Print the output for $f(-8)$, $f(1)$, $f(10)$"
   ]
  },
  {
   "cell_type": "code",
   "execution_count": 26,
   "metadata": {
    "collapsed": false
   },
   "outputs": [],
   "source": [
    "# Your code"
   ]
  },
  {
   "cell_type": "markdown",
   "metadata": {},
   "source": [
    "More on if-elif-else:\n",
    "\n",
    "http://www.tutorialspoint.com/python/python_if_else.htm"
   ]
  },
  {
   "cell_type": "markdown",
   "metadata": {},
   "source": [
    "## For-Loop:"
   ]
  },
  {
   "cell_type": "markdown",
   "metadata": {},
   "source": [
    "Use a for-loop to plot the values of $f$ between -13 and 36 with stepsize 5:"
   ]
  },
  {
   "cell_type": "code",
   "execution_count": 27,
   "metadata": {
    "collapsed": false
   },
   "outputs": [],
   "source": [
    "# Your code"
   ]
  },
  {
   "cell_type": "markdown",
   "metadata": {},
   "source": [
    "use the continue statement to continue the loop if f returns 'x is to small' and the break steament to leave the loop once f returns 'x is to big'"
   ]
  },
  {
   "cell_type": "code",
   "execution_count": 28,
   "metadata": {
    "collapsed": false
   },
   "outputs": [],
   "source": [
    "# Your code"
   ]
  },
  {
   "cell_type": "markdown",
   "metadata": {},
   "source": [
    "Notice that break and continue are build in functions but they can also be implemented using if-else statement!"
   ]
  },
  {
   "cell_type": "markdown",
   "metadata": {},
   "source": [
    "## While-Loop:"
   ]
  },
  {
   "cell_type": "markdown",
   "metadata": {},
   "source": [
    "Print $f(x)$ starting from $0$ until the function $f$ returns a value bigger than $100$ using a while loop. You need to take care of the string values $f$ produces."
   ]
  },
  {
   "cell_type": "code",
   "execution_count": 29,
   "metadata": {
    "collapsed": false
   },
   "outputs": [],
   "source": [
    "# Your code  "
   ]
  },
  {
   "cell_type": "markdown",
   "metadata": {},
   "source": [
    "More on loops:\n",
    "\n",
    "https://en.wikibooks.org/wiki/Python_Programming/Loops"
   ]
  },
  {
   "cell_type": "markdown",
   "metadata": {},
   "source": [
    "## Map:\n",
    "\n",
    "If you simply want to apply a function on a list of values or more general if every step in a loop is independent of the others you can also use the map function. Use map to get the values of $f$ for $x$ in the range of $0$ to $10$"
   ]
  },
  {
   "cell_type": "code",
   "execution_count": 30,
   "metadata": {
    "collapsed": false
   },
   "outputs": [],
   "source": [
    "# Your code"
   ]
  },
  {
   "cell_type": "markdown",
   "metadata": {},
   "source": [
    "## List comprehensions:"
   ]
  },
  {
   "cell_type": "markdown",
   "metadata": {},
   "source": [
    "List comprehensions are the pythonic way of looping. Create a list $A$ with all even numbers between $0$ and $20$ and a list $B$ with all odd numbers between $0$ and $20$ using list comprehensions and modulo (both $0$ and $20$ are exclusive)"
   ]
  },
  {
   "cell_type": "code",
   "execution_count": 31,
   "metadata": {
    "collapsed": false
   },
   "outputs": [],
   "source": [
    "# Your code"
   ]
  },
  {
   "cell_type": "markdown",
   "metadata": {},
   "source": [
    "Use a nested list comprehesion to select all numbers in $B$ that divide a number in $A$ without remainder."
   ]
  },
  {
   "cell_type": "code",
   "execution_count": 32,
   "metadata": {
    "collapsed": false
   },
   "outputs": [],
   "source": [
    "# Your code"
   ]
  },
  {
   "cell_type": "markdown",
   "metadata": {},
   "source": [
    "More on list comprehensions:\n",
    "    \n",
    "https://docs.python.org/3/tutorial/datastructures.html#list-comprehensions"
   ]
  },
  {
   "cell_type": "markdown",
   "metadata": {
    "collapsed": true
   },
   "source": [
    "## Zip function:"
   ]
  },
  {
   "cell_type": "markdown",
   "metadata": {},
   "source": [
    "Loop through $A$ and $B$ at the same time using the zip function, this can either be done using a for loop or a list comprehension"
   ]
  },
  {
   "cell_type": "code",
   "execution_count": 33,
   "metadata": {
    "collapsed": false
   },
   "outputs": [],
   "source": [
    "# Your code"
   ]
  },
  {
   "cell_type": "markdown",
   "metadata": {},
   "source": [
    "## Emumerate\n",
    "\n",
    "Create a list comprehension expression that creates a list of (index, item) tuples for all elements in B using enumerate."
   ]
  },
  {
   "cell_type": "code",
   "execution_count": 34,
   "metadata": {
    "collapsed": false
   },
   "outputs": [],
   "source": [
    "# Your code"
   ]
  },
  {
   "cell_type": "markdown",
   "metadata": {},
   "source": [
    "# OOP and Exception handling"
   ]
  },
  {
   "cell_type": "markdown",
   "metadata": {
    "collapsed": true
   },
   "source": [
    "Please read the OOP notebook before you do these exercises.\n",
    "\n",
    "Create a class $Object3D$ that implements a class method 'get_base_class_name()' returning the name of the class as string. Implement an abstract class method 'get_volume()'. In Python 3.x use the decorator '@abstractmethod', in Pyhton 2.7 use the work around by raising an exception when calling the function."
   ]
  },
  {
   "cell_type": "code",
   "execution_count": 35,
   "metadata": {
    "collapsed": false
   },
   "outputs": [],
   "source": [
    "# Your code"
   ]
  },
  {
   "cell_type": "markdown",
   "metadata": {},
   "source": [
    "Now create a class $Box$, which inherits from $Object3D$. The constructor takes the length of the $3$ edges and stores them in object variables. Overwrite 'get_volume()' such that it returns the volume of the box."
   ]
  },
  {
   "cell_type": "code",
   "execution_count": 36,
   "metadata": {
    "collapsed": false
   },
   "outputs": [],
   "source": [
    "# Your code"
   ]
  },
  {
   "cell_type": "markdown",
   "metadata": {},
   "source": [
    "Now create a class $Cube$ which inherits from $Box$. The constructore take the length of the edges and will call the super constructor with this value."
   ]
  },
  {
   "cell_type": "code",
   "execution_count": 37,
   "metadata": {
    "collapsed": false
   },
   "outputs": [],
   "source": [
    "# Your code"
   ]
  },
  {
   "cell_type": "markdown",
   "metadata": {},
   "source": [
    "Create a $Object3D$, a $Box$ with size $3$,$6$,$7$ and a $Cube$ with size $6$.\n",
    "Write a function that takes one of this objects and print the value of 'get_volume()' and 'get_base_class()'.\n",
    "\n",
    "Catch the exception Object3D.get_volume() throws when calling the function."
   ]
  },
  {
   "cell_type": "code",
   "execution_count": 38,
   "metadata": {
    "collapsed": false
   },
   "outputs": [],
   "source": [
    "# Your code"
   ]
  },
  {
   "cell_type": "markdown",
   "metadata": {},
   "source": [
    "More on OOP:\n",
    "\n",
    "https://www.codecademy.com/courses/python-intermediate-en-WL8e4/0/1\n",
    "\n",
    "http://www.tutorialspoint.com/python/python_classes_objects.htm\n",
    "\n",
    "More on Exceptions:\n",
    "\n",
    "http://www.tutorialspoint.com/python/python_exceptions.htm"
   ]
  },
  {
   "cell_type": "markdown",
   "metadata": {},
   "source": [
    "# Generators\n",
    "\n",
    "Python often uses iterators, such that 'for i in range(20):' loops over a list that (in Python 2.7) is created beforehand by range(20).\n",
    "See:https://wiki.python.org/moin/Iterator \n",
    "\n",
    "Creating all objects we want to loop over in advance might not always be a good idea, think of memory limitations for example. This is where generators come into account. Generators behave and can be used like an iterator but produce the next item on the fly. Please read the following article about generators https://wiki.python.org/moin/Generators\n",
    "\n",
    "Create an generator that creates the Fibonacci numbers 0,1,1,2,3,5, ...."
   ]
  },
  {
   "cell_type": "code",
   "execution_count": 39,
   "metadata": {
    "collapsed": false
   },
   "outputs": [],
   "source": [
    "# Your code"
   ]
  },
  {
   "cell_type": "markdown",
   "metadata": {},
   "source": [
    "# Decorators "
   ]
  },
  {
   "cell_type": "markdown",
   "metadata": {},
   "source": [
    "Decorators are basically a fast way to define wrapper functions.\n",
    "Please read this tutorial before continuing\n",
    "http://thecodeship.com/patterns/guide-to-python-function-decorators/\n",
    "\n",
    "Write a function 'concat_strings(strings, delimiter)' that concatenates a list of strings using a given delimiter. \n",
    "Example: concat_string(['G','A','F','H','Q'],'-') results in the string G-A-F-H-Q\n",
    "\n",
    "Now write a decorator '@sorted' that sorts the first argument (list of strings)\n",
    "\n",
    "print the result for concat_strings(['G','A','F','H','Q'],'-') with and without decorator."
   ]
  },
  {
   "cell_type": "code",
   "execution_count": 40,
   "metadata": {
    "collapsed": false
   },
   "outputs": [],
   "source": [
    "# Your code"
   ]
  },
  {
   "cell_type": "markdown",
   "metadata": {},
   "source": [
    "Decorators can also be use to implement type bindings in python. \n",
    "\n",
    "Write a function 'print_int(int1,int2)' that simply prints the two integers.\n",
    "\n",
    "Write a decorator '@args_int' that raises an exception if any passed argument is not an integer. \n",
    "\n",
    "Check the ouput for print_int(2,3) and print_int(2,'three') with and without decorator."
   ]
  },
  {
   "cell_type": "code",
   "execution_count": 41,
   "metadata": {
    "collapsed": false
   },
   "outputs": [],
   "source": [
    "# Your code"
   ]
  }
 ],
 "metadata": {
  "kernelspec": {
   "display_name": "Python 2",
   "language": "python",
   "name": "python2"
  },
  "language_info": {
   "codemirror_mode": {
    "name": "ipython",
    "version": 2
   },
   "file_extension": ".py",
   "mimetype": "text/x-python",
   "name": "python",
   "nbconvert_exporter": "python",
   "pygments_lexer": "ipython2",
   "version": "2.7.9"
  }
 },
 "nbformat": 4,
 "nbformat_minor": 0
}
