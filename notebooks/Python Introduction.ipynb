{
 "cells": [
  {
   "cell_type": "markdown",
   "metadata": {},
   "source": [
    "# Datatypes in Python\n",
    "\n",
    "What you should learn: floats, integers, long, complex, bools, strings "
   ]
  },
  {
   "cell_type": "markdown",
   "metadata": {},
   "source": [
    "## Int and Float - Calculate the following expression using Python:\n",
    "\n",
    "$y = 1-(5*(6-12))+5/7$"
   ]
  },
  {
   "cell_type": "code",
   "execution_count": null,
   "metadata": {
    "collapsed": false
   },
   "outputs": [],
   "source": []
  },
  {
   "cell_type": "markdown",
   "metadata": {},
   "source": [
    "Check the result manually! If it is incorrect think about what might be the reason and correct the code. \n",
    "If the result is correct what is important point here we have to take care of?"
   ]
  },
  {
   "cell_type": "code",
   "execution_count": null,
   "metadata": {
    "collapsed": false
   },
   "outputs": [],
   "source": []
  },
  {
   "cell_type": "markdown",
   "metadata": {},
   "source": [
    "## Modulo - Calculate the following expression using Python:\n",
    "\n",
    "$ 8674^5\\mod 67$"
   ]
  },
  {
   "cell_type": "code",
   "execution_count": null,
   "metadata": {
    "collapsed": false
   },
   "outputs": [],
   "source": []
  },
  {
   "cell_type": "markdown",
   "metadata": {},
   "source": [
    "## Complex - Calculate the following expression using Python:\n",
    "\n",
    "$((5+3j) - (7-2j)) * (4+6j)$"
   ]
  },
  {
   "cell_type": "code",
   "execution_count": null,
   "metadata": {
    "collapsed": false
   },
   "outputs": [],
   "source": []
  },
  {
   "cell_type": "markdown",
   "metadata": {},
   "source": [
    "## Bool - Define two bool variables a and b\n",
    "$a = True,b = False$\n",
    "### and calulate (!a = not a)\n",
    "$ (a \\vee b ) \\wedge (a \\wedge !a)$ \n",
    "### and  \n",
    "$ (a - b ) + (a + !a)$"
   ]
  },
  {
   "cell_type": "code",
   "execution_count": null,
   "metadata": {
    "collapsed": false
   },
   "outputs": [],
   "source": []
  },
  {
   "cell_type": "code",
   "execution_count": null,
   "metadata": {
    "collapsed": false
   },
   "outputs": [],
   "source": []
  },
  {
   "cell_type": "markdown",
   "metadata": {},
   "source": [
    "## String - define the two variables\n",
    "$name = Max, surname = Mustermann$\n",
    "### Concatenate them with a whitespace and print the result "
   ]
  },
  {
   "cell_type": "code",
   "execution_count": null,
   "metadata": {
    "collapsed": false
   },
   "outputs": [],
   "source": []
  },
  {
   "cell_type": "markdown",
   "metadata": {},
   "source": [
    "## Bit manipulation - define the variables\n",
    "$x = 13, y = 5$\n",
    "### and shift the bits of x by 2 to the right and the bits y by one to the left\n",
    "### calculate logic 'and', 'or' and 'xor' of x and y"
   ]
  },
  {
   "cell_type": "code",
   "execution_count": null,
   "metadata": {
    "collapsed": false
   },
   "outputs": [],
   "source": []
  },
  {
   "cell_type": "markdown",
   "metadata": {},
   "source": [
    "# Complex datastructures in Python\n",
    "What you should learn: List, dictionaries, maps, tuples, indexing "
   ]
  },
  {
   "cell_type": "markdown",
   "metadata": {},
   "source": [
    "## Lists - Define the two lists \n",
    "$A = [1,2,3,4,5], B = [10,9,8,7,6]$\n",
    "### concaltenate them, store the result in C and print C"
   ]
  },
  {
   "cell_type": "code",
   "execution_count": null,
   "metadata": {
    "collapsed": false
   },
   "outputs": [],
   "source": []
  },
  {
   "cell_type": "markdown",
   "metadata": {},
   "source": [
    "### Extract the sublist [3,4,5,10] to List D \n",
    "### Add the element at position 8 (start counting from 0) of list C at the end of D\n",
    "### Print D and its length"
   ]
  },
  {
   "cell_type": "code",
   "execution_count": null,
   "metadata": {
    "collapsed": false
   },
   "outputs": [],
   "source": []
  },
  {
   "cell_type": "markdown",
   "metadata": {},
   "source": [
    "### Add element 5 at the end of the list\n",
    "### Remove element 5\n",
    "### Insert 15 at position 1 (start counting from 0)\n",
    "### Sort the list"
   ]
  },
  {
   "cell_type": "code",
   "execution_count": null,
   "metadata": {
    "collapsed": false
   },
   "outputs": [],
   "source": []
  },
  {
   "cell_type": "markdown",
   "metadata": {},
   "source": [
    "### Remove the element at position 2 and reverse the list"
   ]
  },
  {
   "cell_type": "code",
   "execution_count": null,
   "metadata": {
    "collapsed": false
   },
   "outputs": [],
   "source": []
  },
  {
   "cell_type": "markdown",
   "metadata": {},
   "source": [
    "## Sets \n",
    "\n",
    "### Create the two sets A = 'Apple','Peach','Banana','Blueberry' and B = 'Strawberry','Peach','Banana','Pineapple' and check wheather A and B contain the lement 'Pineapple'"
   ]
  },
  {
   "cell_type": "code",
   "execution_count": null,
   "metadata": {
    "collapsed": false
   },
   "outputs": [],
   "source": []
  },
  {
   "cell_type": "markdown",
   "metadata": {},
   "source": [
    "### Now calculate\n",
    "$A \\, \\bigcup \\, B$ (Union), \n",
    "$A \\, \\bigcap \\, B$ (Intersection), \n",
    "$A \\, \\setminus \\, B$ (Difference), \n",
    "$A \\, \\triangle \\, B = (A \\, \\setminus \\, B) \\, \\bigcup \\, (B \\, \\setminus \\, A)$ (Symmetric difference)"
   ]
  },
  {
   "cell_type": "code",
   "execution_count": null,
   "metadata": {
    "collapsed": false
   },
   "outputs": [],
   "source": []
  },
  {
   "cell_type": "markdown",
   "metadata": {},
   "source": [
    "## Dictioneries - Create a dictionary"
   ]
  },
  {
   "cell_type": "markdown",
   "metadata": {},
   "source": [
    "## Create a dictionary with the key-value pairs \n",
    "$pen-567, paper-673, keyboard-52$, \n",
    "### Add the key-value pair monitor-4, \n",
    "### Delete the key pen, prin the dictionary keys\n",
    "### Check wheather paper is an element of dict and print its value."
   ]
  },
  {
   "cell_type": "code",
   "execution_count": null,
   "metadata": {
    "collapsed": false
   },
   "outputs": [],
   "source": []
  },
  {
   "cell_type": "markdown",
   "metadata": {},
   "source": [
    "# Control flows and functions"
   ]
  },
  {
   "cell_type": "markdown",
   "metadata": {},
   "source": [
    "## Create a list A with even and a list B with odd numbers between 0 and 20 (both exklusive)"
   ]
  },
  {
   "cell_type": "code",
   "execution_count": null,
   "metadata": {
    "collapsed": false
   },
   "outputs": [],
   "source": []
  },
  {
   "cell_type": "markdown",
   "metadata": {},
   "source": [
    "## Print all numbers of list B that divide a number in A "
   ]
  },
  {
   "cell_type": "code",
   "execution_count": null,
   "metadata": {
    "collapsed": false
   },
   "outputs": [],
   "source": []
  },
  {
   "cell_type": "markdown",
   "metadata": {},
   "source": [
    "While this task can be solved easily with loops and if-else statements, many Python coders insist that a more *pythonic* way would avoid such loops. See the [notebook on list comprehension](List%20Comprehensions.ipynb) on one common way of avoiding loops."
   ]
  },
  {
   "cell_type": "markdown",
   "metadata": {},
   "source": [
    "## Implement the same using a while loop"
   ]
  },
  {
   "cell_type": "code",
   "execution_count": null,
   "metadata": {
    "collapsed": false
   },
   "outputs": [],
   "source": []
  },
  {
   "cell_type": "markdown",
   "metadata": {
    "collapsed": true
   },
   "source": [
    "## Now loop through B, print the number until unit you find the number 17 using a for loop break and continue"
   ]
  },
  {
   "cell_type": "code",
   "execution_count": null,
   "metadata": {
    "collapsed": false
   },
   "outputs": [],
   "source": []
  },
  {
   "cell_type": "markdown",
   "metadata": {},
   "source": [
    "### Function - Define the following polynome as a Python function with default value for x = 3:\n",
    "$f(x) =  5*x^2 - 4*\\mid x^3\\mid + \\frac{1}{10}x^5$\n",
    "### a function that calculates f(x) and prints it:\n",
    "$y = f(5)$"
   ]
  },
  {
   "cell_type": "code",
   "execution_count": null,
   "metadata": {
    "collapsed": false
   },
   "outputs": [],
   "source": []
  },
  {
   "cell_type": "markdown",
   "metadata": {},
   "source": [
    "## Reimplement the function such that it returns a lambda expression "
   ]
  },
  {
   "cell_type": "code",
   "execution_count": null,
   "metadata": {
    "collapsed": false
   },
   "outputs": [],
   "source": []
  },
  {
   "cell_type": "markdown",
   "metadata": {},
   "source": [
    "#### Note that python allows to use various functions like cos, sin, exp ... however this will be covered when we dive into numpy later on "
   ]
  },
  {
   "cell_type": "markdown",
   "metadata": {},
   "source": [
    "### Plotting - Plot the polynome in the range -10 to 20 using list comprehensions"
   ]
  },
  {
   "cell_type": "code",
   "execution_count": null,
   "metadata": {
    "collapsed": false
   },
   "outputs": [],
   "source": []
  },
  {
   "cell_type": "markdown",
   "metadata": {},
   "source": [
    "#Iterators - Use the zip function to loop over two variables list simultaniously\n",
    "$A = 1,2,3,4,5, \n",
    "B = A,B,C,D,E$"
   ]
  },
  {
   "cell_type": "code",
   "execution_count": null,
   "metadata": {
    "collapsed": false
   },
   "outputs": [],
   "source": []
  },
  {
   "cell_type": "markdown",
   "metadata": {},
   "source": [
    "## Use sorted, reversed and enumerate to loop over B in reverse sorted order while printing the current index"
   ]
  },
  {
   "cell_type": "code",
   "execution_count": null,
   "metadata": {
    "collapsed": false
   },
   "outputs": [],
   "source": []
  },
  {
   "cell_type": "markdown",
   "metadata": {},
   "source": [
    "##use map to get all values of the polynome f in the range 1..10"
   ]
  },
  {
   "cell_type": "code",
   "execution_count": null,
   "metadata": {
    "collapsed": false
   },
   "outputs": [],
   "source": []
  },
  {
   "cell_type": "markdown",
   "metadata": {},
   "source": [
    "# Loading / Saving Images"
   ]
  },
  {
   "cell_type": "code",
   "execution_count": null,
   "metadata": {
    "collapsed": true
   },
   "outputs": [],
   "source": []
  },
  {
   "cell_type": "markdown",
   "metadata": {
    "collapsed": true
   },
   "source": [
    "#Modules in Python"
   ]
  },
  {
   "cell_type": "markdown",
   "metadata": {},
   "source": [
    "###Do a wild import of scipy\n",
    "###Import the method scipy.misc.imread() and name it image_read the module scipy and load an image from hard disk\n",
    "### Create you own module containing the function image_read and import the function from this module."
   ]
  },
  {
   "cell_type": "code",
   "execution_count": null,
   "metadata": {
    "collapsed": true
   },
   "outputs": [],
   "source": []
  },
  {
   "cell_type": "markdown",
   "metadata": {},
   "source": [
    "# OOP"
   ]
  },
  {
   "cell_type": "markdown",
   "metadata": {},
   "source": [
    "####Create a 'abstract' class Object3D that implemets the class method get_volume(). Notice that python does not allow abstract classes so so can mimic that by throwing a not implemented error for the method get_volume(). Implement a class method get_base_class() that returns the name of the class as string.\n",
    "\n",
    "####Now create a class Box, which inherits from Object3D. The constructor takes the 3 different edge length and stores them in object variables and get_volume will return its volume.\n",
    "\n",
    "####Now create a class Cube which inherits from Box. The constructore take the length of the edges and wil call the super constructor with this value.\n",
    "\n",
    "####Create a Object3D, a Box with size 3,6,7 and a Cube with size 6, call get_volume() and the get_base_class() methods."
   ]
  },
  {
   "cell_type": "code",
   "execution_count": null,
   "metadata": {
    "collapsed": false
   },
   "outputs": [],
   "source": []
  },
  {
   "cell_type": "code",
   "execution_count": null,
   "metadata": {
    "collapsed": true
   },
   "outputs": [],
   "source": []
  }
 ],
 "metadata": {
  "kernelspec": {
   "display_name": "Python 2",
   "language": "python",
   "name": "python2"
  },
  "language_info": {
   "codemirror_mode": {
    "name": "ipython",
    "version": 2
   },
   "file_extension": ".py",
   "mimetype": "text/x-python",
   "name": "python",
   "nbconvert_exporter": "python",
   "pygments_lexer": "ipython2",
   "version": "2.7.10"
  }
 },
 "nbformat": 4,
 "nbformat_minor": 0
}
