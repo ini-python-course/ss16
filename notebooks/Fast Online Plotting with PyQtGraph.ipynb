{
 "cells": [
  {
   "cell_type": "markdown",
   "metadata": {},
   "source": [
    "# PyQtGraph\n",
    "\n",
    "## Fast Online Plotting in Python\n",
    "---------------------------------------------\n",
    "\"PyQtGraph is a pure-python graphics and GUI library built on PyQt4 / PySide and numpy. It is intended for use in mathematics / scientific / engineering applications. Despite being written entirely in python, the library is very fast due to its heavy leverage of numpy for number crunching and Qt's GraphicsView framework for fast display.\" - http://www.pyqtgraph.org/\n"
   ]
  },
  {
   "cell_type": "markdown",
   "metadata": {},
   "source": [
    "## PyQtGraph or Matplotlib?\n",
    "\n",
    "If you just need to make neat publication-quality plots/figures, then Matplotlib should be your first choice. However, if you are interested in making fast plot updates (> 50 updates per sec), then PyQtGraph is probably the best library to use. \n",
    "\n",
    "### Prerequisites for this notebook: \n",
    "\n",
    "* Numpy\n",
    "* (optional) Basics of PyQt\n",
    "\n",
    "This notebook covers a few basic features of the library that are sufficient to get you started. \n",
    "The main topics covered here are: \n",
    "\n",
    "* Animate data stored in numpy arrays (~ a video). \n",
    "* How to style your plots.\n",
    "* How to setup a grid layout.\n",
    "\n",
    "Refer to the examples provided in the package to learn different features of PyQtGraph. These examples can be accessed via a GUI by running the following in a python shell:"
   ]
  },
  {
   "cell_type": "code",
   "execution_count": null,
   "metadata": {
    "collapsed": false
   },
   "outputs": [],
   "source": [
    "import pyqtgraph.examples\n",
    "pyqtgraph.examples.run()"
   ]
  },
  {
   "cell_type": "markdown",
   "metadata": {
    "collapsed": true
   },
   "source": [
    "## Animate Numpy Arrays"
   ]
  },
  {
   "cell_type": "code",
   "execution_count": null,
   "metadata": {
    "collapsed": true
   },
   "outputs": [],
   "source": [
    "import pyqtgraph as pg             # pg is often used as the shorthand notation\n",
    "from pyqtgraph.Qt import QtCore    # import QtCore from the Qt library"
   ]
  },
  {
   "cell_type": "markdown",
   "metadata": {},
   "source": [
    "pyqtgraph.Qt links to the PyQt library. We wish to use the timer() function of the pyqt library in our example. The timer function can be used if you want someething to happen “in a while” or “every once in a while”."
   ]
  },
  {
   "cell_type": "code",
   "execution_count": null,
   "metadata": {
    "collapsed": false
   },
   "outputs": [],
   "source": [
    "app = pg.QtGui.QApplication([])    # init QApplication"
   ]
  },
  {
   "cell_type": "markdown",
   "metadata": {},
   "source": [
    "Here, app refers to an instance of the Qt's QApplication class. \n",
    "\n",
    "QApplication manages the GUI-application's control flow, where all events from the window system and other sources are processed and dispatched. There can only be one QApplication object defined for all your plots created. "
   ]
  },
  {
   "cell_type": "code",
   "execution_count": null,
   "metadata": {
    "collapsed": true
   },
   "outputs": [],
   "source": [
    "x = np.random.rand(500,50,50)     # create a random numpy array to display - 500 images of size 50x50"
   ]
  },
  {
   "cell_type": "code",
   "execution_count": null,
   "metadata": {
    "collapsed": true
   },
   "outputs": [],
   "source": [
    "pg.setConfigOptions(antialias=True)   # enable antialiasing\n",
    "\n",
    "view = pg.GraphicsView()              # create a main graphics window\n",
    "\n",
    "view.show()                           # show the window"
   ]
  },
  {
   "cell_type": "markdown",
   "metadata": {},
   "source": [
    "When displaying images at a different resolution, setting antialias to True makes the graphics appear smooth without any artifacts. Antialiasing minimizes aliasing when representing a high-resolution image at a lower resolution. Other useful config options are 'background' and 'foreground' colors.\n",
    "\n",
    "\n",
    "GraphicsView generates a main graphics window. The default size is (640,480). You can change this to the size of your choice by using the resize function, e.g, view.resize(50,50)."
   ]
  },
  {
   "cell_type": "code",
   "execution_count": null,
   "metadata": {
    "collapsed": true
   },
   "outputs": [],
   "source": [
    "p = pg.PlotItem()                   # add a plotItem\n",
    "\n",
    "view.setCentralItem(p)              # add the plotItem to the graphicsWindow and set it as central\n"
   ]
  },
  {
   "cell_type": "markdown",
   "metadata": {},
   "source": [
    "For a given graphics window, you can create multiple plots. Here, we created a single plot item and added it to the graphics window.  "
   ]
  },
  {
   "cell_type": "code",
   "execution_count": null,
   "metadata": {
    "collapsed": true
   },
   "outputs": [],
   "source": [
    "img = pg.ImageItem(border='w', levels=(x.min(),x.max()))  # create an image object\n",
    "\n",
    "p.addItem(img)                                            # add the imageItem to the plotItem\n"
   ]
  },
  {
   "cell_type": "markdown",
   "metadata": {},
   "source": [
    "Within each plot, you can define multiple drawing items (or artists). Here, we added an image item. Examples of other items are: PlotCurveItem, ArrowItem, etc. "
   ]
  },
  {
   "cell_type": "code",
   "execution_count": null,
   "metadata": {
    "collapsed": true
   },
   "outputs": [],
   "source": [
    "# hide axis and set title\n",
    "p.hideAxis('left'); p.hideAxis('bottom'); p.hideAxis('top'); p.hideAxis('right')\n",
    "p.setTitle('Array Animation', size='25px', color='y')\n"
   ]
  },
  {
   "cell_type": "code",
   "execution_count": null,
   "metadata": {
    "collapsed": true
   },
   "outputs": [],
   "source": [
    "# data update function\n",
    "cnt=0\n",
    "def animLoop():\n",
    "    global cnt\n",
    "    if cnt < x.shape[0]:\n",
    "        img.setImage(x[cnt])\n",
    "    cnt+=1\n"
   ]
  },
  {
   "cell_type": "markdown",
   "metadata": {},
   "source": [
    "Here, we create a function to update the image item with new data. To this end, we use a counter to iterate over each image stored within x. "
   ]
  },
  {
   "cell_type": "code",
   "execution_count": null,
   "metadata": {
    "collapsed": true
   },
   "outputs": [],
   "source": [
    "# setup and start the timer\n",
    "timer = QtCore.QTimer()\n",
    "timer.timeout.connect(animLoop)\n",
    "timer.start(0)\n"
   ]
  },
  {
   "cell_type": "markdown",
   "metadata": {},
   "source": [
    "The timer function is used to repeatedly call the animLoop with a delay of 0 between each call."
   ]
  },
  {
   "cell_type": "code",
   "execution_count": null,
   "metadata": {
    "collapsed": true
   },
   "outputs": [],
   "source": [
    "app.exec_()           # execute the app"
   ]
  },
  {
   "cell_type": "markdown",
   "metadata": {},
   "source": [
    "Finally, you need to execute the QApplication. Any PyQtGraph code must be wrapped between the app initialization and the app execution. Here is the code all put together (execute and check):"
   ]
  },
  {
   "cell_type": "code",
   "execution_count": null,
   "metadata": {
    "collapsed": false
   },
   "outputs": [],
   "source": [
    "# Animate a 3D numpy array\n",
    "\n",
    "import numpy as np\n",
    "import pyqtgraph as pg\n",
    "from pyqtgraph.Qt import QtCore\n",
    "\n",
    "app = pg.QtGui.QApplication([])\n",
    "\n",
    "x = np.random.rand(500,50,50)\n",
    "\n",
    "pg.setConfigOptions(antialias=True)\n",
    "\n",
    "# main graphics window\n",
    "view = pg.GraphicsView()\n",
    "\n",
    "# show the window\n",
    "view.show()\n",
    "\n",
    "# add a plotItem\n",
    "p = pg.PlotItem()\n",
    "\n",
    "# add the plotItem to the graphicsWindow and set it as central\n",
    "view.setCentralItem(p)\n",
    "\n",
    "# create an image object\n",
    "img = pg.ImageItem(border='w', levels=(x.min(),x.max()))\n",
    "\n",
    "# add the imageItem to the plotItem\n",
    "p.addItem(img)\n",
    "\n",
    "# hide axis and set title\n",
    "p.hideAxis('left'); p.hideAxis('bottom'); p.hideAxis('top'); p.hideAxis('right')\n",
    "p.setTitle('Array Animation', size='25px', color='y')\n",
    "\n",
    "# data generator\n",
    "cnt=0\n",
    "def animLoop():\n",
    "    global cnt\n",
    "    if cnt < x.shape[0]:\n",
    "        img.setImage(x[cnt])\n",
    "    cnt+=1\n",
    "    \n",
    "timer = QtCore.QTimer()\n",
    "timer.timeout.connect(animLoop)\n",
    "timer.start(0)\n",
    "\n",
    "app.exec_()\n"
   ]
  },
  {
   "cell_type": "markdown",
   "metadata": {
    "collapsed": true
   },
   "source": [
    "## Exercise 1\n",
    "\n",
    "* Animate an RGB array.\n",
    "\n",
    "* Animate a 2D array (sequence of line plots). Use pg.PlotCurveItem instead of pg.ImageItem and setData instead of setImage to update the data.\n",
    " "
   ]
  },
  {
   "cell_type": "markdown",
   "metadata": {},
   "source": [
    "#Styling Plots"
   ]
  },
  {
   "cell_type": "markdown",
   "metadata": {},
   "source": [
    "PyQtGraph provides a function called mkPen(args) to create a drawing pen that can be passed as an argument (pen = pg.mkPen()) to style while defining several plot items. A few examples of defining mkPen are:\n",
    "\n",
    "* pg.mkPen('y', width=3, style=QtCore.Qt.DashLine)       # Make a dashed yellow line 2px wide\n",
    "* pg.mkPen(0.5)                                          # Solid gray line 1px wide\n",
    "* pg.mkPen(color=(200,200,255), style=QtCore.Qt.DotLine) # Dotted pale-blue line\n"
   ]
  },
  {
   "cell_type": "markdown",
   "metadata": {},
   "source": [
    "##Exercise 2\n",
    "\n",
    "Repeat Exercise 1 with a yellow dashed line plot animation."
   ]
  },
  {
   "cell_type": "markdown",
   "metadata": {},
   "source": [
    "#Plots Grid Layout\n",
    "\n",
    "You can create a grid layout for your plots using the GraphicsLayout function. The layout can then be used as a placeholder for all your plots within the main graphics window. Here is an example with two plots placed next to each other beneath a wide text block:"
   ]
  },
  {
   "cell_type": "code",
   "execution_count": null,
   "metadata": {
    "collapsed": false
   },
   "outputs": [],
   "source": [
    "# imports \n",
    "import numpy as np\n",
    "import pyqtgraph as pg\n",
    "from pyqtgraph.Qt import QtCore\n",
    "\n",
    "# init qApp\n",
    "app = pg.QtGui.QApplication([])\n",
    "\n",
    "# setup the main window\n",
    "view = pg.GraphicsView()\n",
    "view.resize(900,500)\n",
    "view.setWindowTitle('Notebook')\n",
    "view.show()\n",
    "\n",
    "# main layout\n",
    "layout = pg.GraphicsLayout(border='r')     # with a red bordercolor \n",
    "\n",
    "# set the layout as a central item\n",
    "view.setCentralItem(layout)\n",
    "\n",
    "# create a text block\n",
    "label = pg.LabelItem('PyQtGraph Grid Layout Example', size='25px', color='y')\n",
    "\n",
    "# create a plot with two random curves\n",
    "p1 = pg.PlotItem()\n",
    "curve11 = pg.PlotCurveItem(pen=pg.mkPen(color='g', width=1))\n",
    "curve12 = pg.PlotCurveItem(pen=pg.mkPen(color='b', width=1, style=QtCore.Qt.DashLine))\n",
    "p1.addItem(curve11); p1.addItem(curve12)\n",
    "curve11.setData(np.random.rand(100))\n",
    "curve12.setData(np.random.rand(100))\n",
    "\n",
    "# create another plot with two random curves\n",
    "p2 = pg.PlotItem()\n",
    "curve21 = pg.PlotCurveItem(pen=pg.mkPen(color='w', width=1, style=QtCore.Qt.DotLine))\n",
    "curve22 = pg.PlotCurveItem(pen=pg.mkPen(color='c', width=1, style=QtCore.Qt.DashLine))\n",
    "p2.addItem(curve21); p2.addItem(curve22)\n",
    "curve21.setData(np.random.rand(100))\n",
    "curve22.setData(np.random.rand(100))\n",
    "\n",
    "# Finally organize the layout\n",
    "layout.addItem(label, row=0, col=0, colspan=2)\n",
    "layout.addItem(p1, row=1, col=0)\n",
    "layout.addItem(p2, row=1, col=1)\n",
    "\n",
    "app.exec_()"
   ]
  },
  {
   "cell_type": "markdown",
   "metadata": {},
   "source": [
    "The above example also shows how to draw multiple curves within the same plot.\n",
    "\n",
    "##Exercise 3\n",
    "\n",
    "* Create a grid layout like the example above and animate one of the curves in the left plot. \n",
    "* Animate both curves within the left plot.\n"
   ]
  },
  {
   "cell_type": "markdown",
   "metadata": {},
   "source": [
    "# Summary\n",
    "\n",
    "In this notebook, we have covered the basics of the PyQtGraph library to make fast animations in Python. We suggest you next to have a look at the main documentation of the library and also the examples provided within the library. Enjoy animating plots! "
   ]
  }
 ],
 "metadata": {
  "kernelspec": {
   "display_name": "Python 2",
   "language": "python",
   "name": "python2"
  },
  "language_info": {
   "codemirror_mode": {
    "name": "ipython",
    "version": 2
   },
   "file_extension": ".py",
   "mimetype": "text/x-python",
   "name": "python",
   "nbconvert_exporter": "python",
   "pygments_lexer": "ipython2",
   "version": "2.7.6"
  }
 },
 "nbformat": 4,
 "nbformat_minor": 0
}
