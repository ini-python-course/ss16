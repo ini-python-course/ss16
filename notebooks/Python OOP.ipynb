{
 "cells": [
  {
   "cell_type": "code",
   "execution_count": 1,
   "metadata": {
    "collapsed": false,
    "scrolled": true
   },
   "outputs": [
    {
     "data": {
      "text/html": [
       "<style> \n",
       "div#notebook-container.container {\n",
       "  /* This acts as a spacer between cells,\n",
       "     that is outside the border */\n",
       "  margin: 2px 0px 2px 0px;\n",
       "  list-style: none;\n",
       "  padding: 0;\n",
       "  margin: 0;\n",
       "  -ms-box-orient: horizontal;\n",
       "  display: -webkit-box;\n",
       "  display: -moz-box;\n",
       "  display: -ms-flexbox;\n",
       "  display: -moz-flex;\n",
       "  display: -webkit-flex;\n",
       "  display: flex;  \n",
       "  justify-content: space-around;\n",
       "  -webkit-flex-wrap: wrap;\n",
       "  flex-wrap: wrap;\n",
       "  -webkit-flex-direction: row;\n",
       "  flex-direction: row;\n",
       "}\n",
       "div.cell {\n",
       "width:550px\n",
       "}\n",
       "  </style>"
      ],
      "text/plain": [
       "<IPython.core.display.HTML object>"
      ]
     },
     "metadata": {},
     "output_type": "display_data"
    }
   ],
   "source": [
    "%%HTML\n",
    "<style> \n",
    "div#notebook-container.container {\n",
    "  /* This acts as a spacer between cells,\n",
    "     that is outside the border */\n",
    "  margin: 2px 0px 2px 0px;\n",
    "  list-style: none;\n",
    "  padding: 0;\n",
    "  margin: 0;\n",
    "  -ms-box-orient: horizontal;\n",
    "  display: -webkit-box;\n",
    "  display: -moz-box;\n",
    "  display: -ms-flexbox;\n",
    "  display: -moz-flex;\n",
    "  display: -webkit-flex;\n",
    "  display: flex;  \n",
    "  justify-content: space-around;\n",
    "  -webkit-flex-wrap: wrap;\n",
    "  flex-wrap: wrap;\n",
    "  -webkit-flex-direction: row;\n",
    "  flex-direction: row;\n",
    "}\n",
    "div.cell {\n",
    "width:550px\n",
    "}\n",
    "  </style>"
   ]
  },
  {
   "cell_type": "markdown",
   "metadata": {},
   "source": [
    "The code on the left is a hack to make this notebook two-column. I found it here:\n",
    "\n",
    "http://stackoverflow.com/questions/23370670/ipython-notebook-put-code-cells-into-columns\n",
    "\n",
    "\n",
    "# Object Oriented Programming (OOP) in Python\n",
    "\n",
    "Welcome to the OOP-session of our Python course! This notebook introduces Python's OOP-concepts in a two column-style side by side with an equivalent formulation in Java respectively.\n",
    "\n",
    "We chose Java here, as it is a popular OOP-enabled language that many of you are probably familiar with. Also, we found it helpful to compare Python-style to *some* other language and Java-OOP is still somewhat easier to read than OOP in C-ish languages."
   ]
  },
  {
   "cell_type": "markdown",
   "metadata": {},
   "source": [
    "## Basic class with constructor etc\n",
    "\n",
    "**Python**"
   ]
  },
  {
   "cell_type": "markdown",
   "metadata": {},
   "source": [
    "##  \n",
    "\n",
    "**Java**"
   ]
  },
  {
   "cell_type": "markdown",
   "metadata": {},
   "source": [
    "```python\n",
    "class SpaceShip(SpaceObject):\n",
    "    bgColor = (0, 0, 0, 0)\n",
    "\n",
    "    def __init__(color, position):\n",
    "        super(SpaceShip, self).__init__(\n",
    "                position)\n",
    "        self.color = color\n",
    "\n",
    "    def fly(self, moveVector):\n",
    "        self.position += moveVector\n",
    "\n",
    "    @staticmethod\n",
    "    def get_bgColor():\n",
    "        return SpaceShip.bgColor\n",
    "```\n",
    "\n",
    "\n",
    "See https://julien.danjou.info/blog/2013/guide-python-static-class-abstract-methods for a guide about the decorators `@staticmethod`, `@classmethod` and `abstractmethod`.\n",
    "\n",
    "Classmethods have no equivalent in Java. They are like special static methods that get the class as their initial, implicit argument:\n",
    "\n",
    "```python\n",
    "    @classmethod\n",
    "    def get_bgColor(cls):\n",
    "        return cls.bgColor\n",
    "```"
   ]
  },
  {
   "cell_type": "markdown",
   "metadata": {},
   "source": [
    "```java\n",
    "public class SpaceShip extends SpaceObject {\n",
    "    public static Color bgColor =\n",
    "            new Color(0, 0, 0, 0);\n",
    "    public Color color;\n",
    "\n",
    "    public SpaceShip(Color col, Vec3D pos) {\n",
    "        super(pos);\n",
    "        color = col;\n",
    "    }\n",
    "\n",
    "    public void fly(Vec3D move) {\n",
    "        position.add(move);\n",
    "    }\n",
    "\n",
    "    public static Color get_bgColor() {\n",
    "        return bgColor;\n",
    "    }\n",
    "}\n",
    "```"
   ]
  },
  {
   "cell_type": "markdown",
   "metadata": {},
   "source": [
    "## Abstract classes"
   ]
  },
  {
   "cell_type": "markdown",
   "metadata": {},
   "source": [
    " "
   ]
  },
  {
   "cell_type": "markdown",
   "metadata": {},
   "source": [
    "```python\n",
    "from abc import ABCMeta\n",
    "\n",
    "class Target():\n",
    "    __metaclass__ = ABCMeta\n",
    "\n",
    "    @abstractmethod\n",
    "    def hit(self, strength):\n",
    "        pass\n",
    "```"
   ]
  },
  {
   "cell_type": "markdown",
   "metadata": {},
   "source": [
    "```java\n",
    "public interface Target {\n",
    "  public void hit(double strength);\n",
    "}\n",
    "//or\n",
    "public abstract class Target {\n",
    "  public abstract void hit(double strength);\n",
    "}\n",
    "```"
   ]
  },
  {
   "cell_type": "markdown",
   "metadata": {},
   "source": [
    "## Multiple inheritance"
   ]
  },
  {
   "cell_type": "markdown",
   "metadata": {},
   "source": [
    " "
   ]
  },
  {
   "cell_type": "markdown",
   "metadata": {},
   "source": [
    "```python\n",
    "class SpaceShip(SpaceObject, Target):\n",
    "\n",
    "    def hit(self, strength):\n",
    "        print \"Damn I'm hit.\"\n",
    "```"
   ]
  },
  {
   "cell_type": "markdown",
   "metadata": {},
   "source": [
    "```java\n",
    "public class SpaceShip extends SpaceObject \n",
    "    implements Target {\n",
    "    \n",
    "  public void hit(double strength) {\n",
    "    System.out.println(\"Damn I'm hit.\");\n",
    "  }\n",
    "}\n",
    "```"
   ]
  },
  {
   "cell_type": "markdown",
   "metadata": {},
   "source": [
    "```python\n",
    "class Hitpoints(Target):\n",
    "    def __init__(self):\n",
    "        self.hitpoints = 100\n",
    "\n",
    "    def hit(self, strength):\n",
    "        self.hitpoints -= strength\n",
    "\n",
    "\n",
    "class SpaceShip(SpaceObject, Hitpoints):\n",
    "    def __init__(self):\n",
    "        Hitpoints.__init__(self)\n",
    "        super(SpaceShip, self).__init__()\n",
    "```"
   ]
  },
  {
   "cell_type": "markdown",
   "metadata": {},
   "source": [
    "```java\n",
    "public class HitpointSpaceShip extends \n",
    "    SpaceShip implements Hitpoints {\n",
    "  double hitpoints = 100.0;\n",
    "}\n",
    "\n",
    "public interface Hitpoints extends Target {\n",
    "  //Java 8 introduced default-implementations:\n",
    "  default void hit(double strength) {\n",
    "    ((HitpointSpaceShip) this).hitpoints -=\n",
    "        strength;\n",
    "  }\n",
    "}\n",
    "```"
   ]
  },
  {
   "cell_type": "markdown",
   "metadata": {},
   "source": [
    "## Overloading operators"
   ]
  },
  {
   "cell_type": "markdown",
   "metadata": {},
   "source": [
    " "
   ]
  },
  {
   "cell_type": "markdown",
   "metadata": {},
   "source": [
    "```python\n",
    "class Fraction():\n",
    "\n",
    "  def __init__(self, numerator,denominator):\n",
    "    self.num = numerator\n",
    "    self.den = denominator\n",
    "\n",
    "  def __mul__(self, other):\n",
    "    return Fraction(self.num * other.num,\n",
    "        self.den * other.den)\n",
    "```"
   ]
  },
  {
   "cell_type": "markdown",
   "metadata": {
    "collapsed": false
   },
   "source": [
    " Overview of magic methods:\n",
    " \n",
    " http://www.rafekettler.com/magicmethods.html"
   ]
  },
  {
   "cell_type": "markdown",
   "metadata": {},
   "source": [
    "### Task:\n",
    "\n",
    "Implement numerical and logical magic methods. (How many can you get done in the available time?)\n",
    "\n",
    "Also consider the idea that numerator and denominator are functions, e.g. numpy.polynomial.polynomial. In this case Fraction shall also act as a function. How can you achieve this?\n"
   ]
  },
  {
   "cell_type": "markdown",
   "metadata": {
    "collapsed": true
   },
   "source": [
    " \n"
   ]
  },
  {
   "cell_type": "markdown",
   "metadata": {},
   "source": [
    "## New-style classes\n",
    "\n",
    "__Classic class:__"
   ]
  },
  {
   "cell_type": "markdown",
   "metadata": {},
   "source": [
    "Original essay about new-style classes by Guido van Rossum:\n",
    "https://www.python.org/download/releases/2.2.3/descrintro/\n",
    "\n",
    "__New-style class:__"
   ]
  },
  {
   "cell_type": "code",
   "execution_count": 31,
   "metadata": {
    "collapsed": false
   },
   "outputs": [
    {
     "name": "stdout",
     "output_type": "stream",
     "text": [
      "<type 'instance'>\n"
     ]
    }
   ],
   "source": [
    "class classA():\n",
    "    pass\n",
    "\n",
    "a = classA()\n",
    "\n",
    "print type(a)"
   ]
  },
  {
   "cell_type": "code",
   "execution_count": 32,
   "metadata": {
    "collapsed": false
   },
   "outputs": [
    {
     "name": "stdout",
     "output_type": "stream",
     "text": [
      "<class '__main__.classA'>\n"
     ]
    }
   ],
   "source": [
    "class classA(object):\n",
    "    pass\n",
    "\n",
    "a = classA()\n",
    "\n",
    "print type(a)"
   ]
  },
  {
   "cell_type": "markdown",
   "metadata": {},
   "source": [
    "### Extending built-in types\n",
    "\n",
    "Note that multi-inheritence is constrained to one built-in type only. You cannot extend multiple built-in types."
   ]
  },
  {
   "cell_type": "markdown",
   "metadata": {},
   "source": [
    " "
   ]
  },
  {
   "cell_type": "code",
   "execution_count": 33,
   "metadata": {
    "collapsed": false
   },
   "outputs": [
    {
     "data": {
      "text/plain": [
       "33"
      ]
     },
     "execution_count": 33,
     "metadata": {},
     "output_type": "execute_result"
    }
   ],
   "source": [
    "class evenInt(int):\n",
    "\n",
    "    def __init__(self, value):\n",
    "        if value % 2 != 0:\n",
    "            raise ValueError(str(value)+\n",
    "                             ' is not even')\n",
    "        super(evenInt, self).__init__(value)\n",
    "\n",
    "a = evenInt(24)\n",
    "b = 9\n",
    "\n",
    "a+b"
   ]
  },
  {
   "cell_type": "code",
   "execution_count": 30,
   "metadata": {
    "collapsed": false
   },
   "outputs": [
    {
     "name": "stdout",
     "output_type": "stream",
     "text": [
      "{}\n",
      "1\n",
      "{'x1': 1}\n",
      "0.0\n",
      "7\n",
      "{'default': 0.0, 'y': '7'}\n"
     ]
    }
   ],
   "source": [
    "class defaultdict(dict):\n",
    "\n",
    "    def __init__(self, default=None):\n",
    "        dict.__init__(self)\n",
    "        self.default = default\n",
    "\n",
    "    def __getitem__(self, key):\n",
    "        try:\n",
    "            return dict.__getitem__(self, key)\n",
    "        except KeyError:\n",
    "            return self.default\n",
    "\n",
    "a = defaultdict(default=0.0)\n",
    "\n",
    "print a\n",
    "a['x1'] = 1\n",
    "print a['x1']\n",
    "print a\n",
    "print a['x2']\n",
    "a.y = '7'\n",
    "print a.y\n",
    "print a.__dict__"
   ]
  },
  {
   "cell_type": "markdown",
   "metadata": {},
   "source": [
    "### Slots\n",
    "\n",
    "Slots can replace the mutable class-dictionary `__dict__` by a fixed data structure. `__slots__` disallows adding or removing attributes to a class.\n",
    "Its main purpose is to avoid the need of lots of dictionaries when something simple like `int` is subclassed.\n",
    "\n",
    "Basic slot-example:"
   ]
  },
  {
   "cell_type": "markdown",
   "metadata": {},
   "source": [
    "##  \n",
    "####  \n",
    "####  \n",
    "You cannot modify slots afterwards (well, you can, but it doesn't add the attribute):"
   ]
  },
  {
   "cell_type": "code",
   "execution_count": 3,
   "metadata": {
    "collapsed": false
   },
   "outputs": [
    {
     "name": "stdout",
     "output_type": "stream",
     "text": [
      "{}\n",
      "1\n",
      "{'x1': 1}\n",
      "0.0\n",
      "['default']\n"
     ]
    }
   ],
   "source": [
    "class defaultdict(dict):\n",
    "\n",
    "    __slots__ = ['default']\n",
    "\n",
    "    def __init__(self, default=None):\n",
    "        dict.__init__(self)\n",
    "        self.default = default\n",
    "\n",
    "    def __getitem__(self, key):\n",
    "        try:\n",
    "            return dict.__getitem__(self, key)\n",
    "        except KeyError:\n",
    "            return self.default\n",
    "\n",
    "a = defaultdict(default=0.0)\n",
    "\n",
    "print a\n",
    "a['x1'] = 1\n",
    "print a['x1']\n",
    "print a\n",
    "print a['x2']\n",
    "#a.y = '7'\n",
    "#print a.y\n",
    "#print a.__dict__\n",
    "print a.__slots__"
   ]
  },
  {
   "cell_type": "code",
   "execution_count": 2,
   "metadata": {
    "collapsed": false
   },
   "outputs": [
    {
     "name": "stdout",
     "output_type": "stream",
     "text": [
      "{}\n",
      "1\n",
      "{'x1': 1}\n",
      "0.0\n",
      "['default']\n",
      "['default', 'y']\n"
     ]
    },
    {
     "ename": "AttributeError",
     "evalue": "'defaultdict' object has no attribute 'y'",
     "output_type": "error",
     "traceback": [
      "\u001b[1;31m---------------------------------------------------------------------------\u001b[0m",
      "\u001b[1;31mAttributeError\u001b[0m                            Traceback (most recent call last)",
      "\u001b[1;32m<ipython-input-2-646473a830b1>\u001b[0m in \u001b[0;36m<module>\u001b[1;34m()\u001b[0m\n\u001b[0;32m     26\u001b[0m \u001b[0ma\u001b[0m\u001b[1;33m.\u001b[0m\u001b[0m__slots__\u001b[0m\u001b[1;33m.\u001b[0m\u001b[0mappend\u001b[0m\u001b[1;33m(\u001b[0m\u001b[1;34m'y'\u001b[0m\u001b[1;33m)\u001b[0m\u001b[1;33m\u001b[0m\u001b[0m\n\u001b[0;32m     27\u001b[0m \u001b[1;32mprint\u001b[0m \u001b[0ma\u001b[0m\u001b[1;33m.\u001b[0m\u001b[0m__slots__\u001b[0m\u001b[1;33m\u001b[0m\u001b[0m\n\u001b[1;32m---> 28\u001b[1;33m \u001b[0ma\u001b[0m\u001b[1;33m.\u001b[0m\u001b[0my\u001b[0m \u001b[1;33m=\u001b[0m \u001b[1;34m'7'\u001b[0m\u001b[1;33m\u001b[0m\u001b[0m\n\u001b[0m\u001b[0;32m     29\u001b[0m \u001b[1;32mprint\u001b[0m \u001b[0ma\u001b[0m\u001b[1;33m.\u001b[0m\u001b[0my\u001b[0m\u001b[1;33m\u001b[0m\u001b[0m\n",
      "\u001b[1;31mAttributeError\u001b[0m: 'defaultdict' object has no attribute 'y'"
     ]
    }
   ],
   "source": [
    "class defaultdict(dict):\n",
    "\n",
    "    __slots__ = ['default']\n",
    "\n",
    "    def __init__(self, default=None):\n",
    "        dict.__init__(self)\n",
    "        self.default = default\n",
    "\n",
    "    def __getitem__(self, key):\n",
    "        try:\n",
    "            return dict.__getitem__(self, key)\n",
    "        except KeyError:\n",
    "            return self.default\n",
    "\n",
    "a = defaultdict(default=0.0)\n",
    "\n",
    "print a\n",
    "a['x1'] = 1\n",
    "print a['x1']\n",
    "print a\n",
    "print a['x2']\n",
    "#a.y = '7'\n",
    "#print a.y\n",
    "#print a.__dict__\n",
    "print a.__slots__\n",
    "a.__slots__.append('y')\n",
    "print a.__slots__\n",
    "a.y = '7'\n",
    "print a.y"
   ]
  },
  {
   "cell_type": "markdown",
   "metadata": {},
   "source": [
    "Some notes on slots:\n",
    "\n",
    "- cannot be used in not-only-`__slot__` subclasses\n",
    "- There's no check to prevent name conflicts \n",
    "  between the slots defined in a class and the \n",
    "  slots defined in its base classes\n",
    "- You cannot use slots with \"variable-length\" \n",
    "  built-in types as base class. Variable-length \n",
    "  built-in types are long, str and tuple."
   ]
  },
  {
   "cell_type": "code",
   "execution_count": null,
   "metadata": {
    "collapsed": true
   },
   "outputs": [],
   "source": []
  }
 ],
 "metadata": {
  "kernelspec": {
   "display_name": "Python 2",
   "language": "python",
   "name": "python2"
  },
  "language_info": {
   "codemirror_mode": {
    "name": "ipython",
    "version": 2
   },
   "file_extension": ".py",
   "mimetype": "text/x-python",
   "name": "python",
   "nbconvert_exporter": "python",
   "pygments_lexer": "ipython2",
   "version": "2.7.10"
  }
 },
 "nbformat": 4,
 "nbformat_minor": 0
}
