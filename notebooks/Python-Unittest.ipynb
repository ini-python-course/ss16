{
 "cells": [
  {
   "cell_type": "markdown",
   "metadata": {},
   "source": [
    "# Unit-tests\n",
    "\n",
    "Unit-tests are not only a Python-specific concept, but a general paradigm to automate testing your code.\n",
    "When writing a program (or a milestone for a larger program) you usually have a certain goal in mind, and you will want to confirm that your code actually reaches this goal. To do so you usually test your code manually at first."
   ]
  },
  {
   "cell_type": "code",
   "execution_count": 2,
   "metadata": {
    "collapsed": false
   },
   "outputs": [
    {
     "name": "stdout",
     "output_type": "stream",
     "text": [
      "21\n",
      "21\n"
     ]
    }
   ],
   "source": [
    "def sum(a, b):\n",
    "    return a+b\n",
    "\n",
    "#You test this before using it in a large project:\n",
    "print 17+4\n",
    "print sum(17, 4)"
   ]
  },
  {
   "cell_type": "markdown",
   "metadata": {},
   "source": [
    "By comparing the result with the expected result, you can quickly check, whether your method is correct. However you cannot be sure, whether this works for every input in the sense that you didn't test it. So in practice one verifies code for several exemplary inputs and tries to catch all edgy cases. Keep that in mind, but note that this section is about *automating* testing; proper test-design is a topic for itself.\n",
    "\n",
    "If the code is complex, much more output might be needed to check correctness. So it pays off to automate the process of checking this. For instance you could do the following:"
   ]
  },
  {
   "cell_type": "code",
   "execution_count": 3,
   "metadata": {
    "collapsed": false
   },
   "outputs": [
    {
     "name": "stdout",
     "output_type": "stream",
     "text": [
      "True\n"
     ]
    }
   ],
   "source": [
    "def sum(a, b):\n",
    "    return a+b\n",
    "\n",
    "print 17+4 == sum(17, 4)"
   ]
  },
  {
   "cell_type": "markdown",
   "metadata": {},
   "source": [
    "Now you don't have to compare the output yourself, but instead the script just tells you whether it worked.\n",
    "\n",
    "Programmers tend to check code only after writing it. When they have confirmed that it works, they easily forget about it. But in complex projects, subtle changes can silently break code that used to work. So it makes sense to repeat such tests from time to time, e.g. after big changes or version-updates of dependencies.\n",
    "\n",
    "The unit-test framework provides a standard way to organize your tests such that they won't get lost. It also provides tools to test Python version-specific aspects or platform-specific aspects."
   ]
  },
  {
   "cell_type": "markdown",
   "metadata": {
    "collapsed": false
   },
   "source": [
    "```python\n",
    "import unittest\n",
    "\n",
    "def sum(a, b):\n",
    "    return a+b\n",
    "\n",
    "\n",
    "class SumTests(unittest.TestCase):\n",
    "    def test_sum(self):\n",
    "        self.assertEqual(17+4, sum(17, 4))\n",
    "\n",
    "    def test_raises(self):\n",
    "        self.assertRaises(TypeError, sum, (6, None))\n",
    "\n",
    "if __name__ == \"__main__\":\n",
    "    unittest.main()\n",
    "```"
   ]
  },
  {
   "cell_type": "markdown",
   "metadata": {},
   "source": [
    "__Cheat-sheet:__\n",
    "\n",
    "- `assertEqual(a, b)                                a == b`\n",
    "- `assertNotEqual(a, b)                             a != b`\n",
    "- `assertTrue(x)                                    bool(x) is True`\n",
    "- `assertFalse(x)                                   bool(x) is False`\n",
    "- `assertIs(a, b)                                   a is b`\n",
    "- `assertIsNot(a, b)                                a is not b`\n",
    "- `assertIsNone(x)                                  x is None`\n",
    "- `assertIsNotNone(x)                               x is not None`\n",
    "- `assertIn(a, b)                                   a in b`\n",
    "- `assertNotIn(a, b)                                a not in b`\n",
    "- `assertIsInstance(a, b)                           isinstance(a, b)`\n",
    "- `assertNotIsInstance(a, b)                        not isinstance(a, b)`\n",
    "- `assertRaises(exc, fun, *args, **kwds)            fun(*args, **kwds) raises exc`\n",
    "- `assertRaisesRegexp(exc, r, fun, *args, **kwds)   fun(*args, **kwds) raises exc and the message matches regex r`\n",
    "- `assertAlmostEqual(a, b)                          round(a-b, 7) == 0`\n",
    "- `assertNotAlmostEqual(a, b)                       round(a-b, 7) != 0`\n",
    "- `assertGreater(a, b)                              a > b`\n",
    "- `assertGreaterEqual(a, b)                         a >= b`\n",
    "- `assertLess(a, b)                                 a < b`\n",
    "- `assertLessEqual(a, b)                            a <= b`\n",
    "- `assertRegexpMatches(s, r)                        r.search(s)`\n",
    "- `assertNotRegexpMatches(s, r)                     not r.search(s)`\n",
    "- `assertItemsEqual(a, b)                           sorted(a) == sorted(b) and works with unhashable objs`\n",
    "- `assertDictContainsSubset(a, b)                   all the key/value pairs in a exist in b`\n",
    "\n",
    "For a complete documentation, see https://docs.python.org/2/library/unittest.html"
   ]
  },
  {
   "cell_type": "markdown",
   "metadata": {},
   "source": [
    "## Managing test attributes or resources\n",
    "\n",
    "Sometimes it is necessary to load specific resources for a bunch of tests or to set certain flags and attributes that test some code under hard circumstances."
   ]
  },
  {
   "cell_type": "markdown",
   "metadata": {
    "collapsed": false
   },
   "source": [
    "```python\n",
    "import unittest\n",
    "\n",
    "def sum(a, b):\n",
    "    return a+b\n",
    "\n",
    "\n",
    "class SumTests(unittest.TestCase):\n",
    "    @classmethod\n",
    "    def setUpClass(cls):\n",
    "        print 'set up class'\n",
    "\n",
    "    @classmethod\n",
    "    def tearDownClass(cls):\n",
    "        print 'tear down class'\n",
    "\n",
    "    def setUp(self):\n",
    "        print 'set up test...'\n",
    "\n",
    "    def tearDown(self):\n",
    "        print 'tear down test...'\n",
    "\n",
    "    def test_sum(self):\n",
    "        self.assertEqual(17+4, sum(17, 4))\n",
    "\n",
    "    def test_raises(self):\n",
    "        self.assertRaises(TypeError, sum, (6, None))\n",
    "\n",
    "if __name__ == \"__main__\":\n",
    "    unittest.main()\n",
    "```"
   ]
  },
  {
   "cell_type": "markdown",
   "metadata": {
    "collapsed": true
   },
   "source": [
    "## Skipping tests\n",
    "\n",
    "To skip tests that are under construction, or are platform/version specific there are a number of decorators. Also, if - e.g. due to refactoring - some tests temporarily fail, you can mark them as expected failures."
   ]
  },
  {
   "cell_type": "markdown",
   "metadata": {},
   "source": [
    "```python\n",
    "import unittest\n",
    "\n",
    "class MyTestCase(unittest.TestCase):\n",
    "\n",
    "    @unittest.skip(\"demonstrating skipping\")\n",
    "    def test_nothing(self):\n",
    "        self.fail(\"shouldn't happen\")\n",
    "\n",
    "    @unittest.skipIf(mylib.__version__ < (1, 3),\n",
    "                     \"not supported in this library version\")\n",
    "    def test_format(self):\n",
    "        # Tests that work for only a certain version of the library.\n",
    "        pass\n",
    "\n",
    "    @unittest.skipUnless(sys.platform.startswith(\"win\"), \"requires Windows\")\n",
    "    def test_windows_support(self):\n",
    "        # windows specific testing code\n",
    "        pass\n",
    "\n",
    "    @unittest.expectedFailure\n",
    "    def test_fail(self):\n",
    "        self.assertEqual(1, 0, \"broken\")\n",
    "```"
   ]
  },
  {
   "cell_type": "markdown",
   "metadata": {},
   "source": [
    "You can also skip an entire class:\n",
    "\n",
    "```python\n",
    "@unittest.skip(\"showing class skipping\")\n",
    "class MySkippedTestCase(unittest.TestCase):\n",
    "    def test_not_run(self):\n",
    "        pass\n",
    "```"
   ]
  },
  {
   "cell_type": "code",
   "execution_count": null,
   "metadata": {
    "collapsed": true
   },
   "outputs": [],
   "source": []
  }
 ],
 "metadata": {
  "kernelspec": {
   "display_name": "Python 2",
   "language": "python",
   "name": "python2"
  },
  "language_info": {
   "codemirror_mode": {
    "name": "ipython",
    "version": 2
   },
   "file_extension": ".py",
   "mimetype": "text/x-python",
   "name": "python",
   "nbconvert_exporter": "python",
   "pygments_lexer": "ipython2",
   "version": "2.7.6"
  }
 },
 "nbformat": 4,
 "nbformat_minor": 0
}
