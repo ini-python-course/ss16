{
 "cells": [
  {
   "cell_type": "markdown",
   "metadata": {},
   "source": [
    "# Linear Regression\n",
    "This tutorial will teach you how to implement and solve a regression problem using python."
   ]
  },
  {
   "cell_type": "markdown",
   "metadata": {},
   "source": [
    "#### Additional references:\n",
    "\n",
    "http://ufldl.stanford.edu/tutorial/supervised/LinearRegression/ $\\hspace{15cm}$\n",
    "http://cs229.stanford.edu/notes/cs229-notes1.pdf\n",
    "$\\hspace{25cm}$"
   ]
  },
  {
   "cell_type": "markdown",
   "metadata": {},
   "source": [
    "Such as classification, regression is a fundamental concept in machine learning. \n",
    "While classification is about assigning the correct class $c$ to a data-point $\\vec x$, regression is about fitting a function $f(\\vec x) = \\vec y + \\epsilon$ to a set of $D$ tuples $\\left\\lbrace(\\vec x_1,\\vec y_1),\\cdots,(\\vec x_D,\\vec y_D)\\right\\rbrace$ such that the error term $\\epsilon$ gets as close as possible to zero for all tuples. In other words we want to learn a function that describes the data best! Here, $\\vec x$ and $\\vec y$ are vectors, and $f(\\vec x)$ is a parameterized function. In order to formulate this task as an optimization problem we need to choose an appropriate loss/error function that accounts for the fact that the single terms can be positive or negative and thus may cancel out each other. The most common choice is to minimize the Mean Squared Error (MSE), which leads to the following optimization problem\n",
    "\n",
    "$minimize \\, \\frac{1}{D}\\sum_d^D \\epsilon^2_d = minimize \\, \\frac{1}{D}\\sum_d^D (f(\\vec x_d) - \\vec y_d)^2  \\,.$\n",
    "\n",
    "Note that there are other loss/error functions see https://en.wikipedia.org/wiki/Linear_regression.\n",
    "Although  mathematically equivalent it is better to optimize the MSE instead of the sum of squared errors to avoid numerical problems when having a large number of data-points.\n",
    "\n",
    "Let us begin with an easy example where $x$ and $y$ are scalars and where $f(x) = ax+b$ is a linear function with slope $a$ and interception $b$. In this case our optimization problem becomes\n",
    "\n",
    "$minimize \\, \\frac{1}{D}\\sum_d^{D}\\left(a x_{d}+b-y_{d}\\right)^2 = minimize \\, \\left\\langle \\left(a x_{d}+b-y_{d}\\right)^2 \\right\\rangle_d\\, ,$\n",
    "\n",
    "where $\\left\\langle x_d \\right\\rangle_d$ denotes simply the average of $x_d$. \n",
    "$\\hspace{25cm}$\n",
    "\n",
    "#### Exercise 1)  - Analytical solution\n",
    "- Your first exercise is to find the optimal parameters $a^*$ and $b^*$ analytically for which the optimization problem given above is minimal.\n",
    "\n",
    "How do you find the minimum of a function with respect to a variable?(Hint: Curve sketching/Kurvendiskussion)\n",
    "But you have two variables (Hint: linear system of equations/ Lineares Gleichungssystem)"
   ]
  },
  {
   "cell_type": "markdown",
   "metadata": {},
   "source": []
  },
  {
   "cell_type": "markdown",
   "metadata": {},
   "source": [
    "Do you have an idea why it is good to use a quadratic error function? \n",
    "\n",
    "What would be the problem is we skip the square and use the absolute value instead?"
   ]
  },
  {
   "cell_type": "markdown",
   "metadata": {
    "collapsed": false,
    "scrolled": true
   },
   "source": [
    "#### Exercise 2)  - Creating data and plotting a line\n",
    "\n",
    "We now want to implement our solution in python and here comes the toy example data we use."
   ]
  },
  {
   "cell_type": "code",
   "execution_count": 204,
   "metadata": {
    "collapsed": false
   },
   "outputs": [
    {
     "data": {
      "image/png": "[encoded data removed]",
      "text/plain": [
       "<matplotlib.figure.Figure at 0x7f4f3b4fc7d0>"
      ]
     },
     "metadata": {},
     "output_type": "display_data"
    }
   ],
   "source": [
    "import numpy as np\n",
    "import matplotlib.pyplot as plt\n",
    "%matplotlib inline\n",
    "\n",
    "np.random.seed(42)\n",
    "x = np.random.rand(100,1)*10.0\n",
    "y = 0.1*x+2.0+np.random.randn(100,1)*0.1\n",
    "\n",
    "plt.scatter(x,y)\n",
    "plt.show()"
   ]
  },
  {
   "cell_type": "markdown",
   "metadata": {},
   "source": [
    "- Now write a function 'plotLine(a,b,min_x=0,max_x=10)' that plots a line with slope $a$ and interception $b$ between $min_x<=x<=max_x$ into the scatter plot.\n",
    "\n",
    "- Can you guess by looking to data and python code how the optimal line and thus the optimal parameters $a^*$,$b^*$ look like? Can you identify the parameters $a^*$,$b^*$ and the error term $\\epsilon$ in the code? Plot the corresponding line using your function. (Note that we can only guess the parameter because it is a 2D artificially constructed problem!)"
   ]
  },
  {
   "cell_type": "code",
   "execution_count": null,
   "metadata": {
    "collapsed": false
   },
   "outputs": [],
   "source": [
    "import numpy as np\n",
    "import matplotlib.pyplot as plt\n",
    "%matplotlib inline\n",
    "\n",
    "def plotLine(a,b,min_x=0.0,max_x=10.0):\n",
    "    # Your code\n",
    "\n",
    "plt.scatter(x,y)\n",
    "a_guess = 0\n",
    "b_guess = 0\n",
    "plotLine(a_guess,b_guess)\n",
    "plt.show()"
   ]
  },
  {
   "cell_type": "markdown",
   "metadata": {},
   "source": [
    "#### Exercise 3)  - 1D closed form solution\n",
    "\n",
    "- Now implement a function that takes two numpy arrays x,y as arguments and returns the optimal parameters $a^*$,$b^*$. Print the result and also  plot the resulting line using plotLine(a*,b*)."
   ]
  },
  {
   "cell_type": "code",
   "execution_count": null,
   "metadata": {
    "collapsed": false
   },
   "outputs": [],
   "source": [
    "def linear_regression(x,y):\n",
    "    # Your code\n",
    "\n",
    "a_star,b_star = linear_regression(x,y)\n",
    "print a_star,b_star\n",
    "plt.scatter(x,y)\n",
    "plotLine(a_star,b_star)\n",
    "plt.show()"
   ]
  },
  {
   "cell_type": "markdown",
   "metadata": {},
   "source": [
    "- Explain why the resulting line does not exactly fit our guess!\n",
    "\n",
    "- Play around with the number of data-points e.g. (10,1000,10000) and with the noise level (0.001,0.01,1.0), to get a feeling of how they influence the solution"
   ]
  },
  {
   "cell_type": "markdown",
   "metadata": {},
   "source": [
    "#### Exercise 4)  - 1D gradient descent\n",
    "\n",
    "Sometimes you do not have all data at once (think of an online learning problem where the data continuously comes from an sensor) or your model does not provide a closed form solution such as multi-layer-perceptrons. This is the case where gradient descent comes into play. \n",
    "\n",
    "You have already calculated the partial derivatives w.r.t the parameters a,b, which points in the direction of steepest ascent of our error function. So to minimize the function we continuously update a and b by the negative partial derivatives multiplied by some step size/learning rate.\n",
    "\n",
    "- Write a function linear_regression_gradient_decent(x,y,learning_rate=0.05,iterations=1000): that updates a,b by the using gradient descent for a fix number of iterations. Keep in mind that the partial derivatives have to be recalculated once a,b, changed. Print the results, plot the estimated line using plotLine(a_star,b_star) and compare the results to the closed form solution. Initilize $a$ and $b$ simply to zero.\n",
    "\n",
    "- Play around with the learning rate(0.1,0.01) and the number of iterations (10,100,10000)."
   ]
  },
  {
   "cell_type": "code",
   "execution_count": null,
   "metadata": {
    "collapsed": false
   },
   "outputs": [],
   "source": [
    "def linear_regression_gradient_decent(x,y,learning_rate=0.05,iterations=1000):\n",
    "    # Your code\n",
    "\n",
    "a_star,b_star = linear_regression_gradient_decent(x,y)\n",
    "plt.scatter(x,y)\n",
    "plotLine(a_star,b_star)\n",
    "print a_star,b_star\n",
    "plt.show()"
   ]
  },
  {
   "cell_type": "markdown",
   "metadata": {},
   "source": [
    "#### Exercise 5)  - Optional - Getting multidimensional\n",
    "\n",
    "If you are familiar with matrix vector calculus you can implement the multidimensional least squares solver! A valuable trick is to integrate the bias term $b$ into the weight matrix $A$ by adding instead a dimension to the data that is constantly one for all data points.\n",
    "\n",
    "The least squares problem for multi input and output dimensions is given by:\n",
    "$\\hspace{25cm}$\n",
    "\n",
    "$minimize \\left\\langle \\sum_i^{N} \\sum_j^M \\left(a_{ij} x_{di}+b_j-y_{dj}\\right)^2 \\right\\rangle_d = minimize \\left\\langle \\sum_i^{N+1} \\sum_j^M \\left(a_{ij} x_{di}-y_{dj}\\right)^2 \\right\\rangle_d = minimize \\left\\langle (  \\vec x {\\bf A} -\\vec y)^2\\right\\rangle_d$, where $\\vec x$, $\\vec y$ are vectors, $\\bf A$ denotes a matrix and the bias has been replaced by an additional input dimension that is constantly one.\n",
    "$\\hspace{25cm}$\n",
    "\n",
    "- Calculate the partial derivative w.r.t. the matrix $\\bf A$ in matrix calculus and solve the equation for $\\bf A$."
   ]
  },
  {
   "cell_type": "markdown",
   "metadata": {},
   "source": []
  },
  {
   "cell_type": "markdown",
   "metadata": {},
   "source": [
    "- Now implement the function linear_regression_multidimensional(x,y) that extends $x$ by a dimension that is constantly one, solves the regression problem and returns weight matrix $\\bf A$ and bias $b$. \n",
    "\n",
    "Hint: You need to extract the bias $b$, which is the last column of the weight matrix if you added the constant dimension to the end of $x$.\n",
    "To solve a set of linear equations use np.linalg.solve() or to get the inverse of a matrix use np.linalg.pinv().\n",
    " \n",
    "- Check you results with the 1D example as given before."
   ]
  },
  {
   "cell_type": "code",
   "execution_count": null,
   "metadata": {
    "collapsed": false
   },
   "outputs": [],
   "source": [
    "def linear_regression_multidimensional(x,y):\n",
    "    # Your code\n",
    "\n",
    "a_star,b_star = linear_regression_multidimensional(x,y)\n",
    "plt.scatter(x,y)\n",
    "plotLine(a_star[0],b_star)\n",
    "print a_star,b_star\n",
    "plt.show()"
   ]
  },
  {
   "cell_type": "markdown",
   "metadata": {},
   "source": [
    "#### Exercise 6)  - Non linear data - expansion \n",
    "\n",
    "Now that you have understood the concept of a linear regression, we want to continues doing something more interesting.\n",
    "\n",
    "Let's get some non linear data!"
   ]
  },
  {
   "cell_type": "code",
   "execution_count": 215,
   "metadata": {
    "collapsed": false
   },
   "outputs": [
    {
     "data": {
      "image/png": "[encoded data removed]",
      "text/plain": [
       "<matplotlib.figure.Figure at 0x7f4f3a520310>"
      ]
     },
     "metadata": {},
     "output_type": "display_data"
    }
   ],
   "source": [
    "import numpy as np\n",
    "import matplotlib.pyplot as plt\n",
    "%matplotlib inline\n",
    "\n",
    "x = np.random.rand(1000)*10.0\n",
    "y = x*np.cos(2*x)+np.random.randn(1000)*0.5\n",
    "plt.scatter(x,y)\n",
    "plt.show()"
   ]
  },
  {
   "cell_type": "markdown",
   "metadata": {},
   "source": [
    "Although this data is non-linear it can still be handled using a linear regression together with a polynomial expansion of the data. Such that the function we want to fit becomes:\n",
    "\n",
    "$f(x) = a_0 + a_1*x+a_2*x^2+a_3*x^3+ \\cdots$\n",
    "\n",
    "Here a_0 is now our bias.\n",
    "\n",
    "- Write a function plot_polynomial(A,b,min_x=0.0,max_x=10.0) that plots the $f(x)$ into the scatter plot."
   ]
  },
  {
   "cell_type": "code",
   "execution_count": 210,
   "metadata": {
    "collapsed": true
   },
   "outputs": [],
   "source": [
    "def plot_polynomial(A,b,min_x=0.0,max_x=10.0):\n",
    "    # Your code"
   ]
  },
  {
   "cell_type": "markdown",
   "metadata": {},
   "source": [
    "###  If you solved exercise 5 \n",
    "\n",
    "- Write an expansion function expand(x,degree) that returns x expanded by degree 'degree' e.g. [x,x^2+,x^3,...]."
   ]
  },
  {
   "cell_type": "code",
   "execution_count": 211,
   "metadata": {
    "collapsed": true
   },
   "outputs": [],
   "source": [
    "def expaned(x, degree):\n",
    "    # Your code"
   ]
  },
  {
   "cell_type": "markdown",
   "metadata": {},
   "source": [
    "- Expand the data by 15, fit the model using linear_regression_multidimensional(x,y) and plot the results again.\n",
    "\n",
    "- Play around with different degrees 1,3,5,10,15!"
   ]
  },
  {
   "cell_type": "code",
   "execution_count": null,
   "metadata": {
    "collapsed": false
   },
   "outputs": [],
   "source": [
    "import numpy as np\n",
    "import matplotlib.pyplot as plt\n",
    "%matplotlib inline\n",
    "\n",
    "# Your code\n",
    "\n",
    "plt.scatter(x,y)\n",
    "plot_polynomial(A,b)\n",
    "print A,b\n",
    "plt.show()"
   ]
  },
  {
   "cell_type": "markdown",
   "metadata": {},
   "source": [
    "\n",
    "\n",
    "### If  you did not  solve exercise 5 \n",
    "\n",
    "- If you have not solved exercise 5 use the function np.polyfit(x,y,degree) to fit a polynomial of degree 'degree' to the data. \n",
    "\n",
    "Important np.polyfit(x,y,degree) returns an array of length degree+1 in reverse order of the parameters, meaning that it starts with the highest degree. For example np.polyfit(x,y,3) returns $[a_3,a_2,a_1,a_0] = [a_3,a_2,a_1,b]$. So you have to extract $b$ and $A$ and reverse $A$ use plot_polynomial(A,b)."
   ]
  },
  {
   "cell_type": "code",
   "execution_count": null,
   "metadata": {
    "collapsed": false
   },
   "outputs": [],
   "source": [
    "# Your code\n",
    "plt.scatter(x,y)\n",
    "plot_polynomial(A,b)\n",
    "print A,b\n",
    "\n",
    "plt.show()"
   ]
  },
  {
   "cell_type": "markdown",
   "metadata": {},
   "source": [
    "Where you could go from here: \n",
    "\n",
    "- Use a library on real world dat for example kaggle.\n",
    "\n",
    "- Implement gradient decent for multi dimensional data!\n",
    "\n",
    "- Extent the model to a Multi-layer-perceptrons!\n",
    "\n",
    "- Other machine learning algorithms!"
   ]
  }
 ],
 "metadata": {
  "kernelspec": {
   "display_name": "Python 2",
   "language": "python",
   "name": "python2"
  },
  "language_info": {
   "codemirror_mode": {
    "name": "ipython",
    "version": 2
   },
   "file_extension": ".py",
   "mimetype": "text/x-python",
   "name": "python",
   "nbconvert_exporter": "python",
   "pygments_lexer": "ipython2",
   "version": "2.7.9"
  }
 },
 "nbformat": 4,
 "nbformat_minor": 0
}
