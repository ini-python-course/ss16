{
 "cells": [
  {
   "cell_type": "markdown",
   "metadata": {},
   "source": [
    "# Parallelization\n",
    "\n",
    "Another nice thing about Python is, how easily you can parallelize your code. Here comes one example for multiprocessing.\n",
    "\n",
    "## map\n",
    "\n",
    "An often used function in Python is `map`. It mapps a given function to every item in a list."
   ]
  },
  {
   "cell_type": "code",
   "execution_count": null,
   "metadata": {
    "collapsed": false
   },
   "outputs": [],
   "source": [
    "def f(x):\n",
    "    return x**2\n",
    "\n",
    "l = range(8)\n",
    "s = map(f, l)\n",
    "\n",
    "print 'input: ', l\n",
    "print 'output:', s"
   ]
  },
  {
   "cell_type": "markdown",
   "metadata": {},
   "source": [
    "## parallel map\n",
    "\n",
    "Such a map function can be parallelized over all cores of your machine very easily. This of course is most useful when the function to call needs heavy computations. Like this one:"
   ]
  },
  {
   "cell_type": "code",
   "execution_count": null,
   "metadata": {
    "collapsed": true
   },
   "outputs": [],
   "source": [
    "import time\n",
    "\n",
    "def g(x):\n",
    "    time.sleep(1) # simulate heavy computations\n",
    "    return x**2"
   ]
  },
  {
   "cell_type": "markdown",
   "metadata": {},
   "source": [
    "Unfortunately, the parallelization doesn't work in IPython notebooks. So you need to run the following code from it's own file:\n",
    "\n",
    "```python\n",
    "import multiprocessing\n",
    "\n",
    "if __name__ == '__main__':\n",
    "    \n",
    "    # a list of 'problems' to solve in parallel\n",
    "    problems = range(8)\n",
    "    \n",
    "    # starting a multiprocessing pool and measure time\n",
    "    pool = multiprocessing.Pool()\n",
    "    time_start = time.time()\n",
    "    result = pool.map(g, problems)\n",
    "    time_stop = time.time()\n",
    "    \n",
    "    # print result\n",
    "    execution_time = time_stop - time_start\n",
    "    print 'executed %d problems in %d seconds' % (len(problems), execution_time)\n",
    "```\n",
    "\n",
    "## MapReduce\n",
    "\n",
    "A simple `map` may seem like a quite limited approach to parallelization at first. However, every problem that can be re-formulated as a combination of a [map](https://en.wikipedia.org/wiki/Map_%28higher-order_function%29) and a subsequent [reduce](https://en.wikipedia.org/wiki/Fold_%28higher-order_function%29) function can be parallelized easily. In fact, this scheme is known as [MapReduce](https://en.wikipedia.org/wiki/MapReduce) and used for large-scale parallelization on the cloud-computing clusters from Google, Amazon and co.\n",
    "\n",
    "## Other approaches\n",
    "\n",
    "There are many other approaches and libraries to parallelization as well. For instance there is [joblib parallel](https://pythonhosted.org/joblib/parallel.html) and [IPython parallel](https://ipython.org/ipython-doc/3/parallel/index.html). The latter is pretty powerful and even lets you execute your jobs on different machines via SSH.\n",
    "\n",
    "# Caching\n",
    "\n",
    "Another thing that can make your code much faster is caching, especially when you run scientific experiments repeatedly.\n",
    "\n",
    "> **Note:** If a library (in this case [`joblib`](http://pythonhosted.org/joblib/)) is not installed, you can install it in the CIP cluster via `conda install joblib` from the command prompt. On your own system, libraries are usually installed via `pip install <library_name>`."
   ]
  },
  {
   "cell_type": "code",
   "execution_count": null,
   "metadata": {
    "collapsed": false
   },
   "outputs": [],
   "source": [
    "import joblib\n",
    "import time\n",
    "\n",
    "mem = joblib.Memory(cachedir='C:\\Windows\\Temp')\n",
    "\n",
    "@mem.cache\n",
    "def my_cached_function(x):\n",
    "    time.sleep(5)\n",
    "    return x**2\n",
    "\n",
    "print my_cached_function(2)\n",
    "print my_cached_function(2)\n",
    "print my_cached_function(2)\n",
    "print my_cached_function(2)"
   ]
  }
 ],
 "metadata": {
  "kernelspec": {
   "display_name": "Python 2",
   "language": "python",
   "name": "python2"
  },
  "language_info": {
   "codemirror_mode": {
    "name": "ipython",
    "version": 2
   },
   "file_extension": ".py",
   "mimetype": "text/x-python",
   "name": "python",
   "nbconvert_exporter": "python",
   "pygments_lexer": "ipython2",
   "version": "2.7.10"
  }
 },
 "nbformat": 4,
 "nbformat_minor": 0
}
